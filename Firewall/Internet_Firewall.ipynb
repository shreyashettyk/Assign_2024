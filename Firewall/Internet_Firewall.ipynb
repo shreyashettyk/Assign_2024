{
  "nbformat": 4,
  "nbformat_minor": 0,
  "metadata": {
    "colab": {
      "provenance": []
    },
    "kernelspec": {
      "name": "python3",
      "display_name": "Python 3"
    },
    "language_info": {
      "name": "python"
    }
  },
  "cells": [
    {
      "cell_type": "code",
      "source": [
        "!pip install scipy"
      ],
      "metadata": {
        "colab": {
          "base_uri": "https://localhost:8080/"
        },
        "id": "6NCvOrrpa22Y",
        "outputId": "ba5b29e3-7299-40f9-b66d-ea92a5869ddb"
      },
      "execution_count": null,
      "outputs": [
        {
          "output_type": "stream",
          "name": "stdout",
          "text": [
            "Requirement already satisfied: scipy in /usr/local/lib/python3.11/dist-packages (1.14.1)\n",
            "Requirement already satisfied: numpy<2.3,>=1.23.5 in /usr/local/lib/python3.11/dist-packages (from scipy) (2.0.2)\n"
          ]
        }
      ]
    },
    {
      "cell_type": "markdown",
      "source": [
        "<h1> Introduction </h1>\n",
        "\n",
        "A firewall acts as security guard controlling access between an internal, protected network and an external, untrusted netwrok based on a given security policy. Besides preventing intruders from getting in, a firewall also helps prevent confedential inside data from going out.\n",
        "\n",
        "The main functions of a firewall are  -\n",
        "\n",
        "A fiewall filters incoming (from Internet to organization) and outgoing (from withing organization to outside) packets. A firewall is configured with a ruleset which decided which packets to let in and which ones to drop.\n",
        "\n",
        "-----------------------------------------------------------------\n",
        "\n",
        "\n",
        "Based on this there are four actions -----------\n",
        "\n",
        "Allow -> Let the connection procees\n",
        "\n",
        "Deny -> Block the traffic\n",
        "\n",
        "Drop -> Discard the packet with no response\n",
        "\n",
        "Reset-both -> Send TCP RST to both the parties\n",
        "\n",
        "------------------------------------------------------------------\n",
        "\n",
        "What is NAT ?\n",
        "\n",
        "Publicly accessible machines within an organization such as web server may or may not have public Internet address. In case when they do not have public internet address it is possible to conceal the addressing schema on these machines from the outside world though NAT. Through NAT though not visible on the Internet can establish communcation with the outside machines on the Internet. Network address translation is usally done by the firewalls.\n",
        "\n",
        "\n",
        "\n",
        "\n"
      ],
      "metadata": {
        "id": "khnaaRWuumaq"
      }
    },
    {
      "cell_type": "markdown",
      "source": [
        "<h1> Problem Statement </h1>\n",
        "\n",
        "If a person wants to access a prohibited website on the\n",
        "network , the firewall should be able to block that\n",
        "particular website on the network.\n",
        "\n",
        "Cosnidering that Internet is ever expanding, it can be a diffult to continously update the access list by the admin.\n",
        "\n",
        "As log reports are also an integral part of the firewall system, we utilise the data from these log reports and decide wheather the underlying traffic must be allowed."
      ],
      "metadata": {
        "id": "NXaLQQ_Lz057"
      }
    },
    {
      "cell_type": "markdown",
      "source": [
        "<h1> Steps taken to solve </h1>\n",
        "\n",
        "Data sourced from - https://www.kaggle.com/datasets/tunguz/internet-firewall-data-set\n",
        "\n",
        "Given the network log, classify if the underlying traffic can be allowed.\n",
        "\n",
        "\n",
        "1. First EDA of the given data is done, to get a good understanding of the ranges and distribution\n",
        "\n",
        "2. Based on the given features, new features are extracted and some given features are dropped.\n",
        "\n",
        "3. Once necessary encoding strategies are applied on the final feature set, they are applied on various models.\n",
        "\n",
        "4. Intially a random model that arbitarily assigns probabilty scores and then various other models are built that are then compared against one another based on the performance metrics.\n",
        "\n",
        "\n",
        "Given that this problem requires the devlopment of a low latency application, the model must be able to make fats predictions and ensure no hinderance in the operations.\n",
        "\n"
      ],
      "metadata": {
        "id": "pAdpXJpk1fO1"
      }
    },
    {
      "cell_type": "code",
      "source": [],
      "metadata": {
        "id": "TeElvJ9otsu6"
      },
      "execution_count": null,
      "outputs": []
    },
    {
      "cell_type": "code",
      "source": [
        "import pandas as pd\n",
        "import numpy as np\n",
        "\n",
        "import matplotlib.pyplot as plt\n",
        "import seaborn as sns\n",
        "from tqdm import tqdm\n",
        "\n",
        "\n",
        "from sklearn.preprocessing import Normalizer,LabelEncoder\n",
        "from sklearn.model_selection import train_test_split,GridSearchCV,RandomizedSearchCV\n",
        "from sklearn.feature_extraction.text import CountVectorizer\n",
        "from sklearn.metrics import log_loss,confusion_matrix\n",
        "from scipy import sparse\n",
        "from sklearn.neighbors import KNeighborsClassifier\n",
        "from sklearn.linear_model import LogisticRegression\n",
        "from sklearn.ensemble import RandomForestClassifier\n",
        "\n",
        "import warnings\n",
        "warnings.filterwarnings(action = 'ignore')"
      ],
      "metadata": {
        "id": "ohdG9RM6u_X7"
      },
      "execution_count": 60,
      "outputs": []
    },
    {
      "cell_type": "code",
      "execution_count": 2,
      "metadata": {
        "colab": {
          "base_uri": "https://localhost:8080/"
        },
        "id": "kQc0rbM4uAe_",
        "outputId": "06503d8a-9783-4a50-fd95-72a3f7b0892c"
      },
      "outputs": [
        {
          "output_type": "stream",
          "name": "stdout",
          "text": [
            "Mounted at /content/drive\n"
          ]
        }
      ],
      "source": [
        "from google.colab import drive\n",
        "drive.mount(\"/content/drive\")"
      ]
    },
    {
      "cell_type": "code",
      "source": [
        "firewall_data  = pd.read_csv(\"/content/drive/MyDrive/Problems/Internet_Firewall/log2.csv\")"
      ],
      "metadata": {
        "id": "wOp_zrk8uTPx"
      },
      "execution_count": 143,
      "outputs": []
    },
    {
      "cell_type": "code",
      "source": [
        "firewall_data.shape"
      ],
      "metadata": {
        "colab": {
          "base_uri": "https://localhost:8080/"
        },
        "id": "bNqUed6HyQHP",
        "outputId": "3610fa0c-26ab-4d8c-f6bb-e9d41cad43d0"
      },
      "execution_count": 144,
      "outputs": [
        {
          "output_type": "execute_result",
          "data": {
            "text/plain": [
              "(65532, 12)"
            ]
          },
          "metadata": {},
          "execution_count": 144
        }
      ]
    },
    {
      "cell_type": "code",
      "source": [
        "firewall_data.head()\n"
      ],
      "metadata": {
        "colab": {
          "base_uri": "https://localhost:8080/",
          "height": 223
        },
        "id": "CDsf6mrrvMNj",
        "outputId": "853bdad6-8073-4c9b-e102-44458f45abd1"
      },
      "execution_count": 145,
      "outputs": [
        {
          "output_type": "execute_result",
          "data": {
            "text/plain": [
              "   Source Port  Destination Port  NAT Source Port  NAT Destination Port  \\\n",
              "0        57222                53            54587                    53   \n",
              "1        56258              3389            56258                  3389   \n",
              "2         6881             50321            43265                 50321   \n",
              "3        50553              3389            50553                  3389   \n",
              "4        50002               443            45848                   443   \n",
              "\n",
              "  Action  Bytes  Bytes Sent  Bytes Received  Packets  Elapsed Time (sec)  \\\n",
              "0  allow    177          94              83        2                  30   \n",
              "1  allow   4768        1600            3168       19                  17   \n",
              "2  allow    238         118             120        2                1199   \n",
              "3  allow   3327        1438            1889       15                  17   \n",
              "4  allow  25358        6778           18580       31                  16   \n",
              "\n",
              "   pkts_sent  pkts_received  \n",
              "0          1              1  \n",
              "1         10              9  \n",
              "2          1              1  \n",
              "3          8              7  \n",
              "4         13             18  "
            ],
            "text/html": [
              "\n",
              "  <div id=\"df-5ad503f3-f0b1-48f9-9c9f-0df930d12a98\" class=\"colab-df-container\">\n",
              "    <div>\n",
              "<style scoped>\n",
              "    .dataframe tbody tr th:only-of-type {\n",
              "        vertical-align: middle;\n",
              "    }\n",
              "\n",
              "    .dataframe tbody tr th {\n",
              "        vertical-align: top;\n",
              "    }\n",
              "\n",
              "    .dataframe thead th {\n",
              "        text-align: right;\n",
              "    }\n",
              "</style>\n",
              "<table border=\"1\" class=\"dataframe\">\n",
              "  <thead>\n",
              "    <tr style=\"text-align: right;\">\n",
              "      <th></th>\n",
              "      <th>Source Port</th>\n",
              "      <th>Destination Port</th>\n",
              "      <th>NAT Source Port</th>\n",
              "      <th>NAT Destination Port</th>\n",
              "      <th>Action</th>\n",
              "      <th>Bytes</th>\n",
              "      <th>Bytes Sent</th>\n",
              "      <th>Bytes Received</th>\n",
              "      <th>Packets</th>\n",
              "      <th>Elapsed Time (sec)</th>\n",
              "      <th>pkts_sent</th>\n",
              "      <th>pkts_received</th>\n",
              "    </tr>\n",
              "  </thead>\n",
              "  <tbody>\n",
              "    <tr>\n",
              "      <th>0</th>\n",
              "      <td>57222</td>\n",
              "      <td>53</td>\n",
              "      <td>54587</td>\n",
              "      <td>53</td>\n",
              "      <td>allow</td>\n",
              "      <td>177</td>\n",
              "      <td>94</td>\n",
              "      <td>83</td>\n",
              "      <td>2</td>\n",
              "      <td>30</td>\n",
              "      <td>1</td>\n",
              "      <td>1</td>\n",
              "    </tr>\n",
              "    <tr>\n",
              "      <th>1</th>\n",
              "      <td>56258</td>\n",
              "      <td>3389</td>\n",
              "      <td>56258</td>\n",
              "      <td>3389</td>\n",
              "      <td>allow</td>\n",
              "      <td>4768</td>\n",
              "      <td>1600</td>\n",
              "      <td>3168</td>\n",
              "      <td>19</td>\n",
              "      <td>17</td>\n",
              "      <td>10</td>\n",
              "      <td>9</td>\n",
              "    </tr>\n",
              "    <tr>\n",
              "      <th>2</th>\n",
              "      <td>6881</td>\n",
              "      <td>50321</td>\n",
              "      <td>43265</td>\n",
              "      <td>50321</td>\n",
              "      <td>allow</td>\n",
              "      <td>238</td>\n",
              "      <td>118</td>\n",
              "      <td>120</td>\n",
              "      <td>2</td>\n",
              "      <td>1199</td>\n",
              "      <td>1</td>\n",
              "      <td>1</td>\n",
              "    </tr>\n",
              "    <tr>\n",
              "      <th>3</th>\n",
              "      <td>50553</td>\n",
              "      <td>3389</td>\n",
              "      <td>50553</td>\n",
              "      <td>3389</td>\n",
              "      <td>allow</td>\n",
              "      <td>3327</td>\n",
              "      <td>1438</td>\n",
              "      <td>1889</td>\n",
              "      <td>15</td>\n",
              "      <td>17</td>\n",
              "      <td>8</td>\n",
              "      <td>7</td>\n",
              "    </tr>\n",
              "    <tr>\n",
              "      <th>4</th>\n",
              "      <td>50002</td>\n",
              "      <td>443</td>\n",
              "      <td>45848</td>\n",
              "      <td>443</td>\n",
              "      <td>allow</td>\n",
              "      <td>25358</td>\n",
              "      <td>6778</td>\n",
              "      <td>18580</td>\n",
              "      <td>31</td>\n",
              "      <td>16</td>\n",
              "      <td>13</td>\n",
              "      <td>18</td>\n",
              "    </tr>\n",
              "  </tbody>\n",
              "</table>\n",
              "</div>\n",
              "    <div class=\"colab-df-buttons\">\n",
              "\n",
              "  <div class=\"colab-df-container\">\n",
              "    <button class=\"colab-df-convert\" onclick=\"convertToInteractive('df-5ad503f3-f0b1-48f9-9c9f-0df930d12a98')\"\n",
              "            title=\"Convert this dataframe to an interactive table.\"\n",
              "            style=\"display:none;\">\n",
              "\n",
              "  <svg xmlns=\"http://www.w3.org/2000/svg\" height=\"24px\" viewBox=\"0 -960 960 960\">\n",
              "    <path d=\"M120-120v-720h720v720H120Zm60-500h600v-160H180v160Zm220 220h160v-160H400v160Zm0 220h160v-160H400v160ZM180-400h160v-160H180v160Zm440 0h160v-160H620v160ZM180-180h160v-160H180v160Zm440 0h160v-160H620v160Z\"/>\n",
              "  </svg>\n",
              "    </button>\n",
              "\n",
              "  <style>\n",
              "    .colab-df-container {\n",
              "      display:flex;\n",
              "      gap: 12px;\n",
              "    }\n",
              "\n",
              "    .colab-df-convert {\n",
              "      background-color: #E8F0FE;\n",
              "      border: none;\n",
              "      border-radius: 50%;\n",
              "      cursor: pointer;\n",
              "      display: none;\n",
              "      fill: #1967D2;\n",
              "      height: 32px;\n",
              "      padding: 0 0 0 0;\n",
              "      width: 32px;\n",
              "    }\n",
              "\n",
              "    .colab-df-convert:hover {\n",
              "      background-color: #E2EBFA;\n",
              "      box-shadow: 0px 1px 2px rgba(60, 64, 67, 0.3), 0px 1px 3px 1px rgba(60, 64, 67, 0.15);\n",
              "      fill: #174EA6;\n",
              "    }\n",
              "\n",
              "    .colab-df-buttons div {\n",
              "      margin-bottom: 4px;\n",
              "    }\n",
              "\n",
              "    [theme=dark] .colab-df-convert {\n",
              "      background-color: #3B4455;\n",
              "      fill: #D2E3FC;\n",
              "    }\n",
              "\n",
              "    [theme=dark] .colab-df-convert:hover {\n",
              "      background-color: #434B5C;\n",
              "      box-shadow: 0px 1px 3px 1px rgba(0, 0, 0, 0.15);\n",
              "      filter: drop-shadow(0px 1px 2px rgba(0, 0, 0, 0.3));\n",
              "      fill: #FFFFFF;\n",
              "    }\n",
              "  </style>\n",
              "\n",
              "    <script>\n",
              "      const buttonEl =\n",
              "        document.querySelector('#df-5ad503f3-f0b1-48f9-9c9f-0df930d12a98 button.colab-df-convert');\n",
              "      buttonEl.style.display =\n",
              "        google.colab.kernel.accessAllowed ? 'block' : 'none';\n",
              "\n",
              "      async function convertToInteractive(key) {\n",
              "        const element = document.querySelector('#df-5ad503f3-f0b1-48f9-9c9f-0df930d12a98');\n",
              "        const dataTable =\n",
              "          await google.colab.kernel.invokeFunction('convertToInteractive',\n",
              "                                                    [key], {});\n",
              "        if (!dataTable) return;\n",
              "\n",
              "        const docLinkHtml = 'Like what you see? Visit the ' +\n",
              "          '<a target=\"_blank\" href=https://colab.research.google.com/notebooks/data_table.ipynb>data table notebook</a>'\n",
              "          + ' to learn more about interactive tables.';\n",
              "        element.innerHTML = '';\n",
              "        dataTable['output_type'] = 'display_data';\n",
              "        await google.colab.output.renderOutput(dataTable, element);\n",
              "        const docLink = document.createElement('div');\n",
              "        docLink.innerHTML = docLinkHtml;\n",
              "        element.appendChild(docLink);\n",
              "      }\n",
              "    </script>\n",
              "  </div>\n",
              "\n",
              "\n",
              "<div id=\"df-0b12ec2c-4834-428d-ad80-7f71e1e62635\">\n",
              "  <button class=\"colab-df-quickchart\" onclick=\"quickchart('df-0b12ec2c-4834-428d-ad80-7f71e1e62635')\"\n",
              "            title=\"Suggest charts\"\n",
              "            style=\"display:none;\">\n",
              "\n",
              "<svg xmlns=\"http://www.w3.org/2000/svg\" height=\"24px\"viewBox=\"0 0 24 24\"\n",
              "     width=\"24px\">\n",
              "    <g>\n",
              "        <path d=\"M19 3H5c-1.1 0-2 .9-2 2v14c0 1.1.9 2 2 2h14c1.1 0 2-.9 2-2V5c0-1.1-.9-2-2-2zM9 17H7v-7h2v7zm4 0h-2V7h2v10zm4 0h-2v-4h2v4z\"/>\n",
              "    </g>\n",
              "</svg>\n",
              "  </button>\n",
              "\n",
              "<style>\n",
              "  .colab-df-quickchart {\n",
              "      --bg-color: #E8F0FE;\n",
              "      --fill-color: #1967D2;\n",
              "      --hover-bg-color: #E2EBFA;\n",
              "      --hover-fill-color: #174EA6;\n",
              "      --disabled-fill-color: #AAA;\n",
              "      --disabled-bg-color: #DDD;\n",
              "  }\n",
              "\n",
              "  [theme=dark] .colab-df-quickchart {\n",
              "      --bg-color: #3B4455;\n",
              "      --fill-color: #D2E3FC;\n",
              "      --hover-bg-color: #434B5C;\n",
              "      --hover-fill-color: #FFFFFF;\n",
              "      --disabled-bg-color: #3B4455;\n",
              "      --disabled-fill-color: #666;\n",
              "  }\n",
              "\n",
              "  .colab-df-quickchart {\n",
              "    background-color: var(--bg-color);\n",
              "    border: none;\n",
              "    border-radius: 50%;\n",
              "    cursor: pointer;\n",
              "    display: none;\n",
              "    fill: var(--fill-color);\n",
              "    height: 32px;\n",
              "    padding: 0;\n",
              "    width: 32px;\n",
              "  }\n",
              "\n",
              "  .colab-df-quickchart:hover {\n",
              "    background-color: var(--hover-bg-color);\n",
              "    box-shadow: 0 1px 2px rgba(60, 64, 67, 0.3), 0 1px 3px 1px rgba(60, 64, 67, 0.15);\n",
              "    fill: var(--button-hover-fill-color);\n",
              "  }\n",
              "\n",
              "  .colab-df-quickchart-complete:disabled,\n",
              "  .colab-df-quickchart-complete:disabled:hover {\n",
              "    background-color: var(--disabled-bg-color);\n",
              "    fill: var(--disabled-fill-color);\n",
              "    box-shadow: none;\n",
              "  }\n",
              "\n",
              "  .colab-df-spinner {\n",
              "    border: 2px solid var(--fill-color);\n",
              "    border-color: transparent;\n",
              "    border-bottom-color: var(--fill-color);\n",
              "    animation:\n",
              "      spin 1s steps(1) infinite;\n",
              "  }\n",
              "\n",
              "  @keyframes spin {\n",
              "    0% {\n",
              "      border-color: transparent;\n",
              "      border-bottom-color: var(--fill-color);\n",
              "      border-left-color: var(--fill-color);\n",
              "    }\n",
              "    20% {\n",
              "      border-color: transparent;\n",
              "      border-left-color: var(--fill-color);\n",
              "      border-top-color: var(--fill-color);\n",
              "    }\n",
              "    30% {\n",
              "      border-color: transparent;\n",
              "      border-left-color: var(--fill-color);\n",
              "      border-top-color: var(--fill-color);\n",
              "      border-right-color: var(--fill-color);\n",
              "    }\n",
              "    40% {\n",
              "      border-color: transparent;\n",
              "      border-right-color: var(--fill-color);\n",
              "      border-top-color: var(--fill-color);\n",
              "    }\n",
              "    60% {\n",
              "      border-color: transparent;\n",
              "      border-right-color: var(--fill-color);\n",
              "    }\n",
              "    80% {\n",
              "      border-color: transparent;\n",
              "      border-right-color: var(--fill-color);\n",
              "      border-bottom-color: var(--fill-color);\n",
              "    }\n",
              "    90% {\n",
              "      border-color: transparent;\n",
              "      border-bottom-color: var(--fill-color);\n",
              "    }\n",
              "  }\n",
              "</style>\n",
              "\n",
              "  <script>\n",
              "    async function quickchart(key) {\n",
              "      const quickchartButtonEl =\n",
              "        document.querySelector('#' + key + ' button');\n",
              "      quickchartButtonEl.disabled = true;  // To prevent multiple clicks.\n",
              "      quickchartButtonEl.classList.add('colab-df-spinner');\n",
              "      try {\n",
              "        const charts = await google.colab.kernel.invokeFunction(\n",
              "            'suggestCharts', [key], {});\n",
              "      } catch (error) {\n",
              "        console.error('Error during call to suggestCharts:', error);\n",
              "      }\n",
              "      quickchartButtonEl.classList.remove('colab-df-spinner');\n",
              "      quickchartButtonEl.classList.add('colab-df-quickchart-complete');\n",
              "    }\n",
              "    (() => {\n",
              "      let quickchartButtonEl =\n",
              "        document.querySelector('#df-0b12ec2c-4834-428d-ad80-7f71e1e62635 button');\n",
              "      quickchartButtonEl.style.display =\n",
              "        google.colab.kernel.accessAllowed ? 'block' : 'none';\n",
              "    })();\n",
              "  </script>\n",
              "</div>\n",
              "\n",
              "    </div>\n",
              "  </div>\n"
            ],
            "application/vnd.google.colaboratory.intrinsic+json": {
              "type": "dataframe",
              "variable_name": "firewall_data",
              "summary": "{\n  \"name\": \"firewall_data\",\n  \"rows\": 65532,\n  \"fields\": [\n    {\n      \"column\": \"Source Port\",\n      \"properties\": {\n        \"dtype\": \"number\",\n        \"std\": 15255,\n        \"min\": 0,\n        \"max\": 65534,\n        \"num_unique_values\": 22724,\n        \"samples\": [\n          63125,\n          62417,\n          55918\n        ],\n        \"semantic_type\": \"\",\n        \"description\": \"\"\n      }\n    },\n    {\n      \"column\": \"Destination Port\",\n      \"properties\": {\n        \"dtype\": \"number\",\n        \"std\": 18466,\n        \"min\": 0,\n        \"max\": 65535,\n        \"num_unique_values\": 3273,\n        \"samples\": [\n          37828,\n          51819,\n          28520\n        ],\n        \"semantic_type\": \"\",\n        \"description\": \"\"\n      }\n    },\n    {\n      \"column\": \"NAT Source Port\",\n      \"properties\": {\n        \"dtype\": \"number\",\n        \"std\": 21970,\n        \"min\": 0,\n        \"max\": 65535,\n        \"num_unique_values\": 29152,\n        \"samples\": [\n          40540,\n          35838,\n          8160\n        ],\n        \"semantic_type\": \"\",\n        \"description\": \"\"\n      }\n    },\n    {\n      \"column\": \"NAT Destination Port\",\n      \"properties\": {\n        \"dtype\": \"number\",\n        \"std\": 9739,\n        \"min\": 0,\n        \"max\": 65535,\n        \"num_unique_values\": 2533,\n        \"samples\": [\n          31151,\n          33531,\n          8080\n        ],\n        \"semantic_type\": \"\",\n        \"description\": \"\"\n      }\n    },\n    {\n      \"column\": \"Action\",\n      \"properties\": {\n        \"dtype\": \"category\",\n        \"num_unique_values\": 4,\n        \"samples\": [\n          \"drop\",\n          \"reset-both\",\n          \"allow\"\n        ],\n        \"semantic_type\": \"\",\n        \"description\": \"\"\n      }\n    },\n    {\n      \"column\": \"Bytes\",\n      \"properties\": {\n        \"dtype\": \"number\",\n        \"std\": 5618438,\n        \"min\": 60,\n        \"max\": 1269359015,\n        \"num_unique_values\": 10724,\n        \"samples\": [\n          6387,\n          1570,\n          24712\n        ],\n        \"semantic_type\": \"\",\n        \"description\": \"\"\n      }\n    },\n    {\n      \"column\": \"Bytes Sent\",\n      \"properties\": {\n        \"dtype\": \"number\",\n        \"std\": 3828138,\n        \"min\": 60,\n        \"max\": 948477220,\n        \"num_unique_values\": 6683,\n        \"samples\": [\n          77974,\n          9715,\n          5331\n        ],\n        \"semantic_type\": \"\",\n        \"description\": \"\"\n      }\n    },\n    {\n      \"column\": \"Bytes Received\",\n      \"properties\": {\n        \"dtype\": \"number\",\n        \"std\": 2463207,\n        \"min\": 0,\n        \"max\": 320881795,\n        \"num_unique_values\": 8814,\n        \"samples\": [\n          2098,\n          1307,\n          21406\n        ],\n        \"semantic_type\": \"\",\n        \"description\": \"\"\n      }\n    },\n    {\n      \"column\": \"Packets\",\n      \"properties\": {\n        \"dtype\": \"number\",\n        \"std\": 5133,\n        \"min\": 1,\n        \"max\": 1036116,\n        \"num_unique_values\": 1116,\n        \"samples\": [\n          627,\n          44,\n          21027\n        ],\n        \"semantic_type\": \"\",\n        \"description\": \"\"\n      }\n    },\n    {\n      \"column\": \"Elapsed Time (sec)\",\n      \"properties\": {\n        \"dtype\": \"number\",\n        \"std\": 302,\n        \"min\": 0,\n        \"max\": 10824,\n        \"num_unique_values\": 915,\n        \"samples\": [\n          132,\n          757,\n          163\n        ],\n        \"semantic_type\": \"\",\n        \"description\": \"\"\n      }\n    },\n    {\n      \"column\": \"pkts_sent\",\n      \"properties\": {\n        \"dtype\": \"number\",\n        \"std\": 3218,\n        \"min\": 1,\n        \"max\": 747520,\n        \"num_unique_values\": 749,\n        \"samples\": [\n          504,\n          39649,\n          91\n        ],\n        \"semantic_type\": \"\",\n        \"description\": \"\"\n      }\n    },\n    {\n      \"column\": \"pkts_received\",\n      \"properties\": {\n        \"dtype\": \"number\",\n        \"std\": 2223,\n        \"min\": 0,\n        \"max\": 327208,\n        \"num_unique_values\": 922,\n        \"samples\": [\n          1681,\n          67,\n          699\n        ],\n        \"semantic_type\": \"\",\n        \"description\": \"\"\n      }\n    }\n  ]\n}"
            }
          },
          "metadata": {},
          "execution_count": 145
        }
      ]
    },
    {
      "cell_type": "code",
      "source": [],
      "metadata": {
        "id": "8EFP1SgRIJQP"
      },
      "execution_count": null,
      "outputs": []
    },
    {
      "cell_type": "code",
      "source": [
        "#removing space from column names and converting to lower case characters for easy access of column names\n",
        "firewall_data.columns = firewall_data.columns.str.replace(' ','_')\n",
        "firewall_data.columns = firewall_data.columns.str.lower()"
      ],
      "metadata": {
        "id": "JrlSx0Fi2MAU"
      },
      "execution_count": 146,
      "outputs": []
    },
    {
      "cell_type": "code",
      "source": [
        "#understanding the memory consumption and data type of column names\n",
        "firewall_data.info(memory_usage='deep')"
      ],
      "metadata": {
        "colab": {
          "base_uri": "https://localhost:8080/"
        },
        "id": "Y3Q3TnX_uT74",
        "outputId": "ad6d1a3e-6ebf-464d-cce7-c60a9798d144"
      },
      "execution_count": 147,
      "outputs": [
        {
          "output_type": "stream",
          "name": "stdout",
          "text": [
            "<class 'pandas.core.frame.DataFrame'>\n",
            "RangeIndex: 65532 entries, 0 to 65531\n",
            "Data columns (total 12 columns):\n",
            " #   Column                Non-Null Count  Dtype \n",
            "---  ------                --------------  ----- \n",
            " 0   source_port           65532 non-null  int64 \n",
            " 1   destination_port      65532 non-null  int64 \n",
            " 2   nat_source_port       65532 non-null  int64 \n",
            " 3   nat_destination_port  65532 non-null  int64 \n",
            " 4   action                65532 non-null  object\n",
            " 5   bytes                 65532 non-null  int64 \n",
            " 6   bytes_sent            65532 non-null  int64 \n",
            " 7   bytes_received        65532 non-null  int64 \n",
            " 8   packets               65532 non-null  int64 \n",
            " 9   elapsed_time_(sec)    65532 non-null  int64 \n",
            " 10  pkts_sent             65532 non-null  int64 \n",
            " 11  pkts_received         65532 non-null  int64 \n",
            "dtypes: int64(11), object(1)\n",
            "memory usage: 9.3 MB\n"
          ]
        }
      ]
    },
    {
      "cell_type": "code",
      "source": [
        "#get he count of each class label in the dataset\n",
        "firewall_data['action'].value_counts(dropna = False)"
      ],
      "metadata": {
        "colab": {
          "base_uri": "https://localhost:8080/",
          "height": 241
        },
        "id": "1n0KuwgPuT_T",
        "outputId": "9fc18765-04ab-4455-e4c0-4e950daa39a1"
      },
      "execution_count": 148,
      "outputs": [
        {
          "output_type": "execute_result",
          "data": {
            "text/plain": [
              "action\n",
              "allow         37640\n",
              "deny          14987\n",
              "drop          12851\n",
              "reset-both       54\n",
              "Name: count, dtype: int64"
            ],
            "text/html": [
              "<div>\n",
              "<style scoped>\n",
              "    .dataframe tbody tr th:only-of-type {\n",
              "        vertical-align: middle;\n",
              "    }\n",
              "\n",
              "    .dataframe tbody tr th {\n",
              "        vertical-align: top;\n",
              "    }\n",
              "\n",
              "    .dataframe thead th {\n",
              "        text-align: right;\n",
              "    }\n",
              "</style>\n",
              "<table border=\"1\" class=\"dataframe\">\n",
              "  <thead>\n",
              "    <tr style=\"text-align: right;\">\n",
              "      <th></th>\n",
              "      <th>count</th>\n",
              "    </tr>\n",
              "    <tr>\n",
              "      <th>action</th>\n",
              "      <th></th>\n",
              "    </tr>\n",
              "  </thead>\n",
              "  <tbody>\n",
              "    <tr>\n",
              "      <th>allow</th>\n",
              "      <td>37640</td>\n",
              "    </tr>\n",
              "    <tr>\n",
              "      <th>deny</th>\n",
              "      <td>14987</td>\n",
              "    </tr>\n",
              "    <tr>\n",
              "      <th>drop</th>\n",
              "      <td>12851</td>\n",
              "    </tr>\n",
              "    <tr>\n",
              "      <th>reset-both</th>\n",
              "      <td>54</td>\n",
              "    </tr>\n",
              "  </tbody>\n",
              "</table>\n",
              "</div><br><label><b>dtype:</b> int64</label>"
            ]
          },
          "metadata": {},
          "execution_count": 148
        }
      ]
    },
    {
      "cell_type": "code",
      "source": [
        "print(\"number of null values \",firewall_data.isnull().sum())"
      ],
      "metadata": {
        "id": "zPGWwNMYuUCb",
        "colab": {
          "base_uri": "https://localhost:8080/"
        },
        "outputId": "711cf196-ee59-43a5-abda-8ec353321a8f"
      },
      "execution_count": 149,
      "outputs": [
        {
          "output_type": "stream",
          "name": "stdout",
          "text": [
            "number of null values  source_port             0\n",
            "destination_port        0\n",
            "nat_source_port         0\n",
            "nat_destination_port    0\n",
            "action                  0\n",
            "bytes                   0\n",
            "bytes_sent              0\n",
            "bytes_received          0\n",
            "packets                 0\n",
            "elapsed_time_(sec)      0\n",
            "pkts_sent               0\n",
            "pkts_received           0\n",
            "dtype: int64\n"
          ]
        }
      ]
    },
    {
      "cell_type": "code",
      "source": [],
      "metadata": {
        "id": "WMioOUbbji9-"
      },
      "execution_count": null,
      "outputs": []
    },
    {
      "cell_type": "code",
      "source": [],
      "metadata": {
        "id": "sKvtsvyeMIa4"
      },
      "execution_count": null,
      "outputs": []
    },
    {
      "cell_type": "markdown",
      "source": [
        "<h2> Exploratory Data Analysis </h2>"
      ],
      "metadata": {
        "id": "KCXrylS7DTfE"
      }
    },
    {
      "cell_type": "markdown",
      "source": [
        "Note :\n",
        "\n",
        "1. Excess kurtosis measures how much deviated the curve is from the\n",
        "   gaussian curve.\n",
        "2. Excess Kurtosis = Kurtosis - 3\n",
        "3. Here, 3 is the kurtosis of  the Gaussian distribution"
      ],
      "metadata": {
        "id": "HxwrzaxCE_Gd"
      }
    },
    {
      "cell_type": "markdown",
      "source": [
        "<h4> Understanding the distribution of packets,bytes and time elapsed parameters"
      ],
      "metadata": {
        "id": "mWG1DCGL-eBw"
      }
    },
    {
      "cell_type": "code",
      "source": [
        "sns.distplot(firewall_data['bytes'],hist = False)"
      ],
      "metadata": {
        "colab": {
          "base_uri": "https://localhost:8080/",
          "height": 482
        },
        "id": "7bg5ErQxE86u",
        "outputId": "3fbf55cd-b193-492c-f7fc-c0612f2b006d"
      },
      "execution_count": 151,
      "outputs": [
        {
          "output_type": "execute_result",
          "data": {
            "text/plain": [
              "<Axes: xlabel='bytes', ylabel='Density'>"
            ]
          },
          "metadata": {},
          "execution_count": 151
        },
        {
          "output_type": "display_data",
          "data": {
            "text/plain": [
              "<Figure size 640x480 with 1 Axes>"
            ],
            "image/png": "[encoded data removed]"
          },
          "metadata": {}
        }
      ]
    },
    {
      "cell_type": "code",
      "source": [
        "from scipy.stats import kurtosis\n",
        "\n",
        "excess_kurt = kurtosis(firewall_data['bytes'].values)\n",
        "print(\"the excess kurtosis of the bytes data is \",excess_kurt)"
      ],
      "metadata": {
        "colab": {
          "base_uri": "https://localhost:8080/"
        },
        "id": "1hNVOjK1z_qL",
        "outputId": "ba23fa80-3938-4b5f-8b9c-41183a9ebb07"
      },
      "execution_count": 153,
      "outputs": [
        {
          "output_type": "stream",
          "name": "stdout",
          "text": [
            "the excess kurtosis of the bytes data is  40466.966188974126\n"
          ]
        }
      ]
    },
    {
      "cell_type": "markdown",
      "source": [
        "<h3> Conclusion </h3>\n",
        "\n",
        "1. From the pdf curve of the bytes data we can see that the curve is very\n",
        "   peaked at one point and right tailed which implies the presence of outliers.\n",
        "\n",
        "2. For this the excess kurtosis of the curve is measured which is found to\n",
        "   be 40466\n"
      ],
      "metadata": {
        "id": "zrRAW8f1-vvz"
      }
    },
    {
      "cell_type": "code",
      "source": [
        "sns.distplot(firewall_data['packets'],hist = False)"
      ],
      "metadata": {
        "colab": {
          "base_uri": "https://localhost:8080/",
          "height": 482
        },
        "id": "b5mk4CzuNOaW",
        "outputId": "145ee3cd-b551-4ac9-a4bf-8e301d5e6bfe"
      },
      "execution_count": 10,
      "outputs": [
        {
          "output_type": "execute_result",
          "data": {
            "text/plain": [
              "<Axes: xlabel='packets', ylabel='Density'>"
            ]
          },
          "metadata": {},
          "execution_count": 10
        },
        {
          "output_type": "display_data",
          "data": {
            "text/plain": [
              "<Figure size 640x480 with 1 Axes>"
            ],
            "image/png": "[encoded data removed]"
          },
          "metadata": {}
        }
      ]
    },
    {
      "cell_type": "code",
      "source": [
        "from scipy.stats import kurtosis\n",
        "\n",
        "excess_kurt = kurtosis(firewall_data['packets'].values)\n",
        "print(excess_kurt)"
      ],
      "metadata": {
        "colab": {
          "base_uri": "https://localhost:8080/"
        },
        "id": "8oy7wDHl0YRJ",
        "outputId": "37311ac4-c53d-42e5-9d2e-d88f61285d00"
      },
      "execution_count": 11,
      "outputs": [
        {
          "output_type": "stream",
          "name": "stdout",
          "text": [
            "29085.772032506597\n"
          ]
        }
      ]
    },
    {
      "cell_type": "markdown",
      "source": [
        "<h3> Conclusion </h3>\n",
        "\n",
        "1. From the pdf curve of the packets data we can see that the curve is\n",
        "   very peaked at one point and right tailed which implies the presence of outliers.\n",
        "   \n",
        "2. For this the excess kurtosis of the curve is measured which is found to\n",
        "   be 29085.7"
      ],
      "metadata": {
        "id": "_LMk0QMBH_Ac"
      }
    },
    {
      "cell_type": "code",
      "source": [
        "sns.distplot(firewall_data['elapsed_time_(sec)'],hist = False)"
      ],
      "metadata": {
        "colab": {
          "base_uri": "https://localhost:8080/",
          "height": 471
        },
        "id": "WCg_f6gaNN8Y",
        "outputId": "2c818a80-62b5-4550-ab7a-9b56e0bde00c"
      },
      "execution_count": 12,
      "outputs": [
        {
          "output_type": "execute_result",
          "data": {
            "text/plain": [
              "<Axes: xlabel='elapsed_time_(sec)', ylabel='Density'>"
            ]
          },
          "metadata": {},
          "execution_count": 12
        },
        {
          "output_type": "display_data",
          "data": {
            "text/plain": [
              "<Figure size 640x480 with 1 Axes>"
            ],
            "image/png": "[encoded data removed]"
          },
          "metadata": {}
        }
      ]
    },
    {
      "cell_type": "code",
      "source": [
        "from scipy.stats import kurtosis\n",
        "\n",
        "excess_kurt = kurtosis(firewall_data['elapsed_time_(sec)'].values)\n",
        "print(excess_kurt)"
      ],
      "metadata": {
        "colab": {
          "base_uri": "https://localhost:8080/"
        },
        "id": "gOih0iTFtddx",
        "outputId": "abe6bc6c-6b67-4613-d08d-7e62e504bb25"
      },
      "execution_count": 13,
      "outputs": [
        {
          "output_type": "stream",
          "name": "stdout",
          "text": [
            "221.26827784217497\n"
          ]
        }
      ]
    },
    {
      "cell_type": "markdown",
      "source": [
        "<h3> Conclusion </h3>\n",
        "\n",
        "  1. From the pdf curve of the elapsed time data we can see that the curve\n",
        "     is very peaked around 0 to 1000 seconds and right tailed later which implies the presence of outliers.\n",
        "\n",
        "  2. For this the excess kurtosis of the curve is measured which is found to\n",
        "   be 221."
      ],
      "metadata": {
        "id": "we-QiDdUISxz"
      }
    },
    {
      "cell_type": "markdown",
      "source": [
        "<h3> Handling Outliers </h3>"
      ],
      "metadata": {
        "id": "B69i9O9HJg58"
      }
    },
    {
      "cell_type": "markdown",
      "source": [
        "Here we compute the percentile values from 90th to 100th percentile.\n",
        "Then the percetile values are further drilled down 99th to 100th percentile\n",
        "with a step size of 0.1"
      ],
      "metadata": {
        "id": "Zj8ulzbxKFxw"
      }
    },
    {
      "cell_type": "code",
      "source": [
        "for i in range(90,101,1):\n",
        "  print(i,\"th percentile value is \",round(np.percentile(firewall_data['bytes'],i),2))\n",
        "\n",
        "print()\n",
        "print(\"*\"*40)\n",
        "print()\n",
        "\n",
        "percentile = 99.0\n",
        "while percentile <= 100.0:\n",
        "  print(percentile,\"th percentile value is \",round(np.percentile(firewall_data['bytes'],percentile),2))\n",
        "  percentile += 0.1\n",
        "  percentile = round(percentile,1)"
      ],
      "metadata": {
        "colab": {
          "base_uri": "https://localhost:8080/"
        },
        "outputId": "1eeff6a8-a297-406d-b9c8-190e3203e0cc",
        "id": "OOMSuBZdtdwf"
      },
      "execution_count": 14,
      "outputs": [
        {
          "output_type": "stream",
          "name": "stdout",
          "text": [
            "90 th percentile value is  8007.0\n",
            "91 th percentile value is  8820.21\n",
            "92 th percentile value is  9841.52\n",
            "93 th percentile value is  11485.83\n",
            "94 th percentile value is  14558.14\n",
            "95 th percentile value is  20411.45\n",
            "96 th percentile value is  32218.16\n",
            "97 th percentile value is  64387.47\n",
            "98 th percentile value is  152192.66\n",
            "99 th percentile value is  520001.89\n",
            "100 th percentile value is  1269359015.0\n",
            "\n",
            "****************************************\n",
            "\n",
            "99.0 th percentile value is  520001.89\n",
            "99.1 th percentile value is  613369.96\n",
            "99.2 th percentile value is  763581.38\n",
            "99.3 th percentile value is  962215.15\n",
            "99.4 th percentile value is  1212436.16\n",
            "99.5 th percentile value is  1784576.91\n",
            "99.6 th percentile value is  2766525.14\n",
            "99.7 th percentile value is  4631089.51\n",
            "99.8 th percentile value is  7978355.01\n",
            "99.9 th percentile value is  13758558.11\n",
            "100.0 th percentile value is  1269359015.0\n"
          ]
        }
      ]
    },
    {
      "cell_type": "code",
      "source": [
        "for i in range(90,101,1):\n",
        "  print(i,\"th percentile value is \",round(np.percentile(firewall_data['packets'],i),2))\n",
        "\n",
        "print()\n",
        "print(\"*\"*40)\n",
        "print()\n",
        "\n",
        "percentile = 99.0\n",
        "while percentile <= 100.0:\n",
        "  print(percentile,\"th percentile value is \",round(np.percentile(firewall_data['packets'],percentile),2))\n",
        "  percentile += 0.1\n",
        "  percentile = round(percentile,1)"
      ],
      "metadata": {
        "colab": {
          "base_uri": "https://localhost:8080/"
        },
        "outputId": "6fbb45cc-a898-4442-db74-ee66b1d4ef36",
        "id": "qK1GYMCYtdwg"
      },
      "execution_count": null,
      "outputs": [
        {
          "output_type": "stream",
          "name": "stdout",
          "text": [
            "90 th percentile value is  25.0\n",
            "91 th percentile value is  28.0\n",
            "92 th percentile value is  31.0\n",
            "93 th percentile value is  36.0\n",
            "94 th percentile value is  41.14\n",
            "95 th percentile value is  50.0\n",
            "96 th percentile value is  65.0\n",
            "97 th percentile value is  102.0\n",
            "98 th percentile value is  209.38\n",
            "99 th percentile value is  627.0\n",
            "100 th percentile value is  1036116.0\n",
            "\n",
            "****************************************\n",
            "\n",
            "99.0 th percentile value is  627.0\n",
            "99.1 th percentile value is  752.22\n",
            "99.2 th percentile value is  897.75\n",
            "99.3 th percentile value is  1099.57\n",
            "99.4 th percentile value is  1348.51\n",
            "99.5 th percentile value is  1938.45\n",
            "99.6 th percentile value is  2921.02\n",
            "99.7 th percentile value is  4509.81\n",
            "99.8 th percentile value is  7608.44\n",
            "99.9 th percentile value is  12518.29\n",
            "100.0 th percentile value is  1036116.0\n"
          ]
        }
      ]
    },
    {
      "cell_type": "code",
      "source": [
        "for i in range(90,101,1):\n",
        "  print(i,\"th percentile value is \",round(np.percentile(firewall_data['elapsed_time_(sec)'],i),2))\n",
        "\n",
        "print()\n",
        "print(\"*\"*40)\n",
        "print()\n",
        "\n",
        "percentile = 99.0\n",
        "while percentile <= 100.0:\n",
        "  print(percentile,\"th percentile value is \",round(np.percentile(firewall_data['elapsed_time_(sec)'],percentile),2))\n",
        "  percentile += 0.1\n",
        "  percentile = round(percentile,1)"
      ],
      "metadata": {
        "colab": {
          "base_uri": "https://localhost:8080/"
        },
        "outputId": "cc4becfa-256a-4c7f-b736-f8e5201472e5",
        "id": "KJ7nP7wvtdwh"
      },
      "execution_count": null,
      "outputs": [
        {
          "output_type": "stream",
          "name": "stdout",
          "text": [
            "90 th percentile value is  113.0\n",
            "91 th percentile value is  121.0\n",
            "92 th percentile value is  130.0\n",
            "93 th percentile value is  139.0\n",
            "94 th percentile value is  158.0\n",
            "95 th percentile value is  194.0\n",
            "96 th percentile value is  256.0\n",
            "97 th percentile value is  345.0\n",
            "98 th percentile value is  807.76\n",
            "99 th percentile value is  1200.0\n",
            "100 th percentile value is  10824.0\n",
            "\n",
            "****************************************\n",
            "\n",
            "99.0 th percentile value is  1200.0\n",
            "99.1 th percentile value is  1200.0\n",
            "99.2 th percentile value is  1200.0\n",
            "99.3 th percentile value is  1200.0\n",
            "99.4 th percentile value is  1201.0\n",
            "99.5 th percentile value is  1351.35\n",
            "99.6 th percentile value is  1899.4\n",
            "99.7 th percentile value is  3591.88\n",
            "99.8 th percentile value is  3609.0\n",
            "99.9 th percentile value is  3832.69\n",
            "100.0 th percentile value is  10824.0\n"
          ]
        }
      ]
    },
    {
      "cell_type": "markdown",
      "source": [
        "<h3> Conclusion </h3>\n",
        "\n",
        "The 100th percetile values of bytes,packets and time elpased is found to be very large when compared to the other percentile values.\n",
        "\n",
        "Hence we will go ahead with removing this from our data"
      ],
      "metadata": {
        "id": "mCxyZTKXKYqh"
      }
    },
    {
      "cell_type": "code",
      "source": [],
      "metadata": {
        "id": "O66I5mLgKW_O"
      },
      "execution_count": null,
      "outputs": []
    },
    {
      "cell_type": "code",
      "source": [
        "firewall_data = firewall_data[firewall_data.bytes < np.percentile(firewall_data['bytes'],100)]\n",
        "firewall_data = firewall_data[firewall_data.packets < np.percentile(firewall_data['packets'],100)]\n",
        "firewall_data = firewall_data[firewall_data['elapsed_time_(sec)'] < np.percentile(firewall_data['elapsed_time_(sec)'],100)]"
      ],
      "metadata": {
        "id": "2G6pMNCVtdwh"
      },
      "execution_count": 154,
      "outputs": []
    },
    {
      "cell_type": "code",
      "source": [
        "firewall_data.shape"
      ],
      "metadata": {
        "colab": {
          "base_uri": "https://localhost:8080/"
        },
        "id": "IPU6bVrRvbfA",
        "outputId": "6c752f2b-7141-4c17-920f-08cafa458723"
      },
      "execution_count": 155,
      "outputs": [
        {
          "output_type": "execute_result",
          "data": {
            "text/plain": [
              "(65529, 12)"
            ]
          },
          "metadata": {},
          "execution_count": 155
        }
      ]
    },
    {
      "cell_type": "code",
      "source": [
        "#divide the data into four dataframes based on the class label\n",
        "\n",
        "allow_df = firewall_data[firewall_data.action == 'allow']\n",
        "deny_df = firewall_data[firewall_data.action == 'deny']\n",
        "drop_df = firewall_data[firewall_data.action == 'drop']\n",
        "reset_df = firewall_data[firewall_data.action == 'reset-both']"
      ],
      "metadata": {
        "id": "orr0fr4xo2k-"
      },
      "execution_count": 17,
      "outputs": []
    },
    {
      "cell_type": "code",
      "source": [],
      "metadata": {
        "id": "NPPpziH9MjO_"
      },
      "execution_count": null,
      "outputs": []
    },
    {
      "cell_type": "markdown",
      "source": [
        "Looking up the 50th percentile or the median value of bytes and packets for all the 4 class types"
      ],
      "metadata": {
        "id": "wr0oR6oGMkP8"
      }
    },
    {
      "cell_type": "code",
      "source": [
        "\n",
        "print(\"Median value of total bytes when action is allow \",allow_df.bytes.median())\n",
        "print(\"Median value of total packets when action is allow \",allow_df.packets.median())\n",
        "print(\"*\"*20)\n",
        "print(\"Median value of total bytes when action is deny \",deny_df.bytes.median())\n",
        "print(\"Median value of total packets when action is deny \",deny_df.packets.median())\n",
        "print(\"*\"*20)\n",
        "print(\"Median value of total bytes when action is drop \",drop_df.bytes.median())\n",
        "print(\"Median value of total packets when action is drop \",drop_df.packets.median())\n",
        "print(\"*\"*20)\n",
        "print(\"Median value of total bytes when action is reset-both \",reset_df.bytes.median())\n",
        "print(\"Median value of total packets when action is reset-both \",reset_df.packets.median())\n",
        "print(\"*\"*20)"
      ],
      "metadata": {
        "colab": {
          "base_uri": "https://localhost:8080/"
        },
        "id": "cVQ8n_3Muwwg",
        "outputId": "4df61d5a-c13b-4f54-8cbe-b3ecd6b92e18"
      },
      "execution_count": 18,
      "outputs": [
        {
          "output_type": "stream",
          "name": "stdout",
          "text": [
            "Median value of total bytes when action is allow  422.0\n",
            "Median value of total packets when action is allow  3.0\n",
            "********************\n",
            "Median value of total bytes when action is deny  66.0\n",
            "Median value of total packets when action is deny  1.0\n",
            "********************\n",
            "Median value of total bytes when action is drop  70.0\n",
            "Median value of total packets when action is drop  1.0\n",
            "********************\n",
            "Median value of total bytes when action is reset-both  145.0\n",
            "Median value of total packets when action is reset-both  1.0\n",
            "********************\n"
          ]
        }
      ]
    },
    {
      "cell_type": "markdown",
      "source": [
        "<h3> We will look up the CDF plots of packets,bytes and elapsed time for each of the four classes </h3>"
      ],
      "metadata": {
        "id": "8a6pYa6kQ-uo"
      }
    },
    {
      "cell_type": "code",
      "source": [
        "\n",
        "# ax1 = sns.distplot(allow_df.bytes)\n",
        "plt.title(\"ALLOW\")\n",
        "kwargs = {'cumulative': True}\n",
        "sns.distplot(allow_df.bytes, hist_kws=kwargs, kde_kws=kwargs)\n",
        "\n"
      ],
      "metadata": {
        "colab": {
          "base_uri": "https://localhost:8080/",
          "height": 489
        },
        "id": "mbRb9qTb8h1c",
        "outputId": "1f12ddd0-0f95-443b-ec61-f81d9637a960"
      },
      "execution_count": 159,
      "outputs": [
        {
          "output_type": "execute_result",
          "data": {
            "text/plain": [
              "<Axes: title={'center': 'ALLOW'}, xlabel='bytes', ylabel='Density'>"
            ]
          },
          "metadata": {},
          "execution_count": 159
        },
        {
          "output_type": "display_data",
          "data": {
            "text/plain": [
              "<Figure size 640x480 with 1 Axes>"
            ],
            "image/png": "[encoded data removed]"
          },
          "metadata": {}
        }
      ]
    },
    {
      "cell_type": "code",
      "source": [
        "\n",
        "\n",
        "plt.title(\"DENY\")\n",
        "# ax1 = sns.distplot(deny_df.bytes)\n",
        "kwargs = {'cumulative': True}\n",
        "sns.distplot(deny_df.bytes, hist_kws=kwargs, kde_kws=kwargs)\n",
        "\n"
      ],
      "metadata": {
        "colab": {
          "base_uri": "https://localhost:8080/",
          "height": 489
        },
        "id": "NZpEU6b38h6U",
        "outputId": "7b024c49-bc73-49cc-eb1b-7a5fea667f04"
      },
      "execution_count": 160,
      "outputs": [
        {
          "output_type": "execute_result",
          "data": {
            "text/plain": [
              "<Axes: title={'center': 'DENY'}, xlabel='bytes', ylabel='Density'>"
            ]
          },
          "metadata": {},
          "execution_count": 160
        },
        {
          "output_type": "display_data",
          "data": {
            "text/plain": [
              "<Figure size 640x480 with 1 Axes>"
            ],
            "image/png": "[encoded data removed]"
          },
          "metadata": {}
        }
      ]
    },
    {
      "cell_type": "code",
      "source": [
        "# plt.title(\"ACTION : DROP\")\n",
        "\n",
        "plt.title(\"DROP\")\n",
        "# ax1 = sns.distplot(drop_df.bytes)\n",
        "kwargs = {'cumulative': True}\n",
        "sns.distplot(drop_df.bytes, hist_kws=kwargs, kde_kws=kwargs)\n",
        "\n"
      ],
      "metadata": {
        "colab": {
          "base_uri": "https://localhost:8080/",
          "height": 489
        },
        "id": "J5mACq118h-C",
        "outputId": "1f94fdab-1ff4-424d-cde5-a60ba7a2d4ef"
      },
      "execution_count": 161,
      "outputs": [
        {
          "output_type": "execute_result",
          "data": {
            "text/plain": [
              "<Axes: title={'center': 'DROP'}, xlabel='bytes', ylabel='Density'>"
            ]
          },
          "metadata": {},
          "execution_count": 161
        },
        {
          "output_type": "display_data",
          "data": {
            "text/plain": [
              "<Figure size 640x480 with 1 Axes>"
            ],
            "image/png": "[encoded data removed]"
          },
          "metadata": {}
        }
      ]
    },
    {
      "cell_type": "code",
      "source": [
        "# plt.title(\"ACTION : RESET-BOTH\")\n",
        "\n",
        "plt.title(\"RESET-BOTH\")\n",
        "# ax1 = sns.distplot(reset_df.bytes)\n",
        "kwargs = {'cumulative': True}\n",
        "sns.distplot(reset_df.bytes, hist_kws=kwargs, kde_kws=kwargs)\n"
      ],
      "metadata": {
        "colab": {
          "base_uri": "https://localhost:8080/",
          "height": 489
        },
        "id": "uZW0w68K8iBr",
        "outputId": "2f4a16d7-6869-4166-c25d-b18401ffbe39"
      },
      "execution_count": 162,
      "outputs": [
        {
          "output_type": "execute_result",
          "data": {
            "text/plain": [
              "<Axes: title={'center': 'RESET-BOTH'}, xlabel='bytes', ylabel='Density'>"
            ]
          },
          "metadata": {},
          "execution_count": 162
        },
        {
          "output_type": "display_data",
          "data": {
            "text/plain": [
              "<Figure size 640x480 with 1 Axes>"
            ],
            "image/png": "[encoded data removed]"
          },
          "metadata": {}
        }
      ]
    },
    {
      "cell_type": "code",
      "source": [],
      "metadata": {
        "id": "RETdeJF38iIA"
      },
      "execution_count": null,
      "outputs": []
    },
    {
      "cell_type": "code",
      "source": [
        "\n",
        "\n",
        "plt.title(\"ALLOW\")\n",
        "# ax1 = sns.distplot(allow_df.packets)\n",
        "kwargs = {'cumulative': True}\n",
        "sns.distplot(allow_df.packets, hist_kws=kwargs, kde_kws=kwargs)\n",
        "\n",
        "# plt.subplot(1,2,2)\n",
        "# sns.set()\n",
        "# ax1 = sns.distplot(allow_df.pkts_received)\n",
        "# kwargs = {'cumulative': True}\n",
        "# sns.distplot(allow_df.pkts_received, hist_kws=kwargs, kde_kws=kwargs)"
      ],
      "metadata": {
        "colab": {
          "base_uri": "https://localhost:8080/",
          "height": 489
        },
        "id": "lfM7HYusEbpg",
        "outputId": "3f7ab827-4c5d-4745-e061-2f3ea6388935"
      },
      "execution_count": 163,
      "outputs": [
        {
          "output_type": "execute_result",
          "data": {
            "text/plain": [
              "<Axes: title={'center': 'ALLOW'}, xlabel='packets', ylabel='Density'>"
            ]
          },
          "metadata": {},
          "execution_count": 163
        },
        {
          "output_type": "display_data",
          "data": {
            "text/plain": [
              "<Figure size 640x480 with 1 Axes>"
            ],
            "image/png": "[encoded data removed]"
          },
          "metadata": {}
        }
      ]
    },
    {
      "cell_type": "code",
      "source": [
        "# plt.subplot(1,3,1)\n",
        "# sns.set()\n",
        "# ax = sns.distplot(deny_df.packets)\n",
        "# kwargs = {'cumulative': True}\n",
        "# sns.distplot(deny_df.packets, hist_kws=kwargs, kde_kws=kwargs)\n",
        "\n",
        "plt.title(\"DENY\")\n",
        "# ax1 = sns.distplot(deny_df.packets)\n",
        "kwargs = {'cumulative': True}\n",
        "sns.distplot(deny_df.packets, hist_kws=kwargs, kde_kws=kwargs)\n",
        "\n"
      ],
      "metadata": {
        "colab": {
          "base_uri": "https://localhost:8080/",
          "height": 489
        },
        "id": "syXecJe0EcOU",
        "outputId": "109f33d7-5922-48b1-fd44-995e6bb0bf84"
      },
      "execution_count": 164,
      "outputs": [
        {
          "output_type": "execute_result",
          "data": {
            "text/plain": [
              "<Axes: title={'center': 'DENY'}, xlabel='packets', ylabel='Density'>"
            ]
          },
          "metadata": {},
          "execution_count": 164
        },
        {
          "output_type": "display_data",
          "data": {
            "text/plain": [
              "<Figure size 640x480 with 1 Axes>"
            ],
            "image/png": "[encoded data removed]"
          },
          "metadata": {}
        }
      ]
    },
    {
      "cell_type": "code",
      "source": [
        "# plt.subplot(1,3,1)\n",
        "# sns.set()\n",
        "# ax = sns.distplot(drop_df.packets)\n",
        "# kwargs = {'cumulative': True}\n",
        "# sns.distplot(drop_df.packets, hist_kws=kwargs, kde_kws=kwargs)\n",
        "\n",
        "plt.title(\"DROP\")\n",
        "# ax1 = sns.distplot(drop_df.packets)\n",
        "kwargs = {'cumulative': True}\n",
        "sns.distplot(drop_df.packets, hist_kws=kwargs, kde_kws=kwargs)\n"
      ],
      "metadata": {
        "colab": {
          "base_uri": "https://localhost:8080/",
          "height": 489
        },
        "id": "mZ6i4U67EcSz",
        "outputId": "22f3a157-c544-40ec-a635-50587e11ec7e"
      },
      "execution_count": 165,
      "outputs": [
        {
          "output_type": "execute_result",
          "data": {
            "text/plain": [
              "<Axes: title={'center': 'DROP'}, xlabel='packets', ylabel='Density'>"
            ]
          },
          "metadata": {},
          "execution_count": 165
        },
        {
          "output_type": "display_data",
          "data": {
            "text/plain": [
              "<Figure size 640x480 with 1 Axes>"
            ],
            "image/png": "[encoded data removed]"
          },
          "metadata": {}
        }
      ]
    },
    {
      "cell_type": "code",
      "source": [
        "# plt.subplot(3,1,1)\n",
        "# sns.set()\n",
        "# ax = sns.distplot(reset_df.packets)\n",
        "# kwargs = {'cumulative': True}\n",
        "# sns.distplot(reset_df.packets, hist_kws=kwargs, kde_kws=kwargs)\n",
        "plt.title(\"RESET-BOTH\")\n",
        "# ax1 = sns.distplot(reset_df.packets)\n",
        "kwargs = {'cumulative': True}\n",
        "sns.distplot(reset_df.packets, hist_kws=kwargs, kde_kws=kwargs)\n",
        "\n"
      ],
      "metadata": {
        "colab": {
          "base_uri": "https://localhost:8080/",
          "height": 489
        },
        "id": "9HhpP7nFEcWy",
        "outputId": "85e54503-8702-4bf6-c782-89dcea70275e"
      },
      "execution_count": 166,
      "outputs": [
        {
          "output_type": "execute_result",
          "data": {
            "text/plain": [
              "<Axes: title={'center': 'RESET-BOTH'}, xlabel='packets', ylabel='Density'>"
            ]
          },
          "metadata": {},
          "execution_count": 166
        },
        {
          "output_type": "display_data",
          "data": {
            "text/plain": [
              "<Figure size 640x480 with 1 Axes>"
            ],
            "image/png": "[encoded data removed]"
          },
          "metadata": {}
        }
      ]
    },
    {
      "cell_type": "code",
      "source": [],
      "metadata": {
        "id": "sutN0hjrEcaK"
      },
      "execution_count": null,
      "outputs": []
    },
    {
      "cell_type": "markdown",
      "source": [
        "Here we will look at the histogram for the time elpased for the communication between the sender and the receiver"
      ],
      "metadata": {
        "id": "5w3UYOOYSc2A"
      }
    },
    {
      "cell_type": "code",
      "source": [
        "plt.xlabel(\"Time Elapsed in sec for class allow\")\n",
        "plt.ylabel(\"count\")\n",
        "plt.hist(allow_df['elapsed_time_(sec)'])\n"
      ],
      "metadata": {
        "colab": {
          "base_uri": "https://localhost:8080/",
          "height": 536
        },
        "id": "AIgsgtgduULo",
        "outputId": "cf90e04c-0c40-4b4e-d0f0-481d0410e3a6"
      },
      "execution_count": 167,
      "outputs": [
        {
          "output_type": "execute_result",
          "data": {
            "text/plain": [
              "(array([3.6382e+04, 9.9700e+02, 3.6000e+01, 1.5900e+02, 2.7000e+01,\n",
              "        1.6000e+01, 1.3000e+01, 3.0000e+00, 1.0000e+00, 3.0000e+00]),\n",
              " array([   0. ,  985.1, 1970.2, 2955.3, 3940.4, 4925.5, 5910.6, 6895.7,\n",
              "        7880.8, 8865.9, 9851. ]),\n",
              " <BarContainer object of 10 artists>)"
            ]
          },
          "metadata": {},
          "execution_count": 167
        },
        {
          "output_type": "display_data",
          "data": {
            "text/plain": [
              "<Figure size 640x480 with 1 Axes>"
            ],
            "image/png": "[encoded data removed]"
          },
          "metadata": {}
        }
      ]
    },
    {
      "cell_type": "markdown",
      "source": [
        "In the allow class where there is successful connection establishede, we  see that most values are around 1000 seconds, with small number of points having a time elapsed value of 2000 seconds and 4000 seconds"
      ],
      "metadata": {
        "id": "huNVM8eyTFAh"
      }
    },
    {
      "cell_type": "code",
      "source": [
        "plt.xlabel(\"Time Elapsed in sec for deny\")\n",
        "plt.ylabel(\"count\")\n",
        "plt.hist(deny_df['elapsed_time_(sec)'])"
      ],
      "metadata": {
        "colab": {
          "base_uri": "https://localhost:8080/",
          "height": 518
        },
        "id": "tiMkXkwCF3mU",
        "outputId": "c450d03a-0f75-40c6-8852-7726dea6bb93"
      },
      "execution_count": 168,
      "outputs": [
        {
          "output_type": "execute_result",
          "data": {
            "text/plain": [
              "(array([1.4985e+04, 0.0000e+00, 0.0000e+00, 0.0000e+00, 0.0000e+00,\n",
              "        0.0000e+00, 0.0000e+00, 0.0000e+00, 0.0000e+00, 2.0000e+00]),\n",
              " array([0. , 0.1, 0.2, 0.3, 0.4, 0.5, 0.6, 0.7, 0.8, 0.9, 1. ]),\n",
              " <BarContainer object of 10 artists>)"
            ]
          },
          "metadata": {},
          "execution_count": 168
        },
        {
          "output_type": "display_data",
          "data": {
            "text/plain": [
              "<Figure size 640x480 with 1 Axes>"
            ],
            "image/png": "[encoded data removed]"
          },
          "metadata": {}
        }
      ]
    },
    {
      "cell_type": "markdown",
      "source": [
        "In the deny class where the packets are either discarded or rejected, we  see that most values are around 0.1 seconds"
      ],
      "metadata": {
        "id": "6GWTxQwLTcPl"
      }
    },
    {
      "cell_type": "code",
      "source": [
        "plt.xlabel(\"Time Elapsed in sec for drop\")\n",
        "plt.ylabel(\"count\")\n",
        "plt.hist(drop_df['elapsed_time_(sec)'])"
      ],
      "metadata": {
        "colab": {
          "base_uri": "https://localhost:8080/",
          "height": 518
        },
        "id": "vWV1oOyRF3x7",
        "outputId": "d67226d9-cf4d-4ea8-ab6b-db37367bf45d"
      },
      "execution_count": null,
      "outputs": [
        {
          "output_type": "execute_result",
          "data": {
            "text/plain": [
              "(array([    0.,     0.,     0.,     0.,     0., 12851.,     0.,     0.,\n",
              "            0.,     0.]),\n",
              " array([-0.5, -0.4, -0.3, -0.2, -0.1,  0. ,  0.1,  0.2,  0.3,  0.4,  0.5]),\n",
              " <BarContainer object of 10 artists>)"
            ]
          },
          "metadata": {},
          "execution_count": 107
        },
        {
          "output_type": "display_data",
          "data": {
            "text/plain": [
              "<Figure size 640x480 with 1 Axes>"
            ],
            "image/png": "[encoded data removed]"
          },
          "metadata": {}
        }
      ]
    },
    {
      "cell_type": "markdown",
      "source": [
        "Again when there is a drop the packet is discarded with no response. With most of values having a time elapsed of 0.1 seconds"
      ],
      "metadata": {
        "id": "mrLF8FblU-Rf"
      }
    },
    {
      "cell_type": "code",
      "source": [
        "plt.xlabel(\"Time Elapsed in sec fro reset-both\")\n",
        "plt.ylabel(\"count\")\n",
        "plt.hist(reset_df['elapsed_time_(sec)'])"
      ],
      "metadata": {
        "colab": {
          "base_uri": "https://localhost:8080/",
          "height": 501
        },
        "id": "TmPzGbSDF39J",
        "outputId": "6330a598-9415-4eb7-f067-b84f6e4184a4"
      },
      "execution_count": null,
      "outputs": [
        {
          "output_type": "execute_result",
          "data": {
            "text/plain": [
              "(array([47.,  0.,  0.,  0.,  0.,  0.,  0.,  0.,  0.,  7.]),\n",
              " array([0. , 0.1, 0.2, 0.3, 0.4, 0.5, 0.6, 0.7, 0.8, 0.9, 1. ]),\n",
              " <BarContainer object of 10 artists>)"
            ]
          },
          "metadata": {},
          "execution_count": 108
        },
        {
          "output_type": "display_data",
          "data": {
            "text/plain": [
              "<Figure size 640x480 with 1 Axes>"
            ],
            "image/png": "[encoded data removed]"
          },
          "metadata": {}
        }
      ]
    },
    {
      "cell_type": "markdown",
      "source": [
        "reset-both is an action that sends a TCP RST (Reset) packet to both the source and the destination of a connection — effectively forcing both ends to immediately terminate the connection.\n",
        "\n",
        "During the reset action we see that most of the time taken is around 0.1 seconds, with a few points taking a time of 1 second\n"
      ],
      "metadata": {
        "id": "H8MIAvn1VjfH"
      }
    },
    {
      "cell_type": "code",
      "source": [],
      "metadata": {
        "id": "TkL6ndGydme6"
      },
      "execution_count": null,
      "outputs": []
    },
    {
      "cell_type": "code",
      "source": [
        "firewall_data.columns"
      ],
      "metadata": {
        "colab": {
          "base_uri": "https://localhost:8080/"
        },
        "id": "jF1RM7x4knK4",
        "outputId": "4eb31098-5984-4980-a18f-3f3add600e0d"
      },
      "execution_count": 169,
      "outputs": [
        {
          "output_type": "execute_result",
          "data": {
            "text/plain": [
              "Index(['source_port', 'destination_port', 'nat_source_port',\n",
              "       'nat_destination_port', 'action', 'bytes', 'bytes_sent',\n",
              "       'bytes_received', 'packets', 'elapsed_time_(sec)', 'pkts_sent',\n",
              "       'pkts_received'],\n",
              "      dtype='object')"
            ]
          },
          "metadata": {},
          "execution_count": 169
        }
      ]
    },
    {
      "cell_type": "markdown",
      "source": [
        "T-SNE representation of the data\n"
      ],
      "metadata": {
        "id": "LKhhnkOAXbJP"
      }
    },
    {
      "cell_type": "code",
      "source": [
        "\n",
        "from sklearn.preprocessing import MinMaxScaler\n",
        "from sklearn.manifold import TSNE\n",
        "\n",
        "X = MinMaxScaler().fit_transform(firewall_data[['source_port', 'destination_port', 'nat_source_port',\n",
        "       'nat_destination_port' , 'bytes', 'bytes_sent',\n",
        "       'bytes_received', 'packets', 'elapsed_time_(sec)', 'pkts_sent',\n",
        "       'pkts_received']])\n",
        "y = firewall_data['action'].values"
      ],
      "metadata": {
        "id": "EBr9iTXHkhmI"
      },
      "execution_count": null,
      "outputs": []
    },
    {
      "cell_type": "code",
      "source": [
        "tsne2d = TSNE(\n",
        "    n_components=2,\n",
        "    init='random', # pca\n",
        "    random_state=101,\n",
        "    method='barnes_hut',\n",
        "    n_iter=1000,\n",
        "    verbose=2,\n",
        "    angle=0.5\n",
        ").fit_transform(X)"
      ],
      "metadata": {
        "colab": {
          "base_uri": "https://localhost:8080/"
        },
        "id": "WT-uSWjrkhxY",
        "outputId": "eb44924e-74e0-417e-95d4-aa2df9d659d2"
      },
      "execution_count": null,
      "outputs": [
        {
          "output_type": "stream",
          "name": "stdout",
          "text": [
            "[t-SNE] Computing 91 nearest neighbors...\n",
            "[t-SNE] Indexed 65532 samples in 0.192s...\n",
            "[t-SNE] Computed neighbors for 65532 samples in 8.408s...\n",
            "[t-SNE] Computed conditional probabilities for sample 1000 / 65532\n",
            "[t-SNE] Computed conditional probabilities for sample 2000 / 65532\n",
            "[t-SNE] Computed conditional probabilities for sample 3000 / 65532\n",
            "[t-SNE] Computed conditional probabilities for sample 4000 / 65532\n",
            "[t-SNE] Computed conditional probabilities for sample 5000 / 65532\n",
            "[t-SNE] Computed conditional probabilities for sample 6000 / 65532\n",
            "[t-SNE] Computed conditional probabilities for sample 7000 / 65532\n",
            "[t-SNE] Computed conditional probabilities for sample 8000 / 65532\n",
            "[t-SNE] Computed conditional probabilities for sample 9000 / 65532\n",
            "[t-SNE] Computed conditional probabilities for sample 10000 / 65532\n",
            "[t-SNE] Computed conditional probabilities for sample 11000 / 65532\n",
            "[t-SNE] Computed conditional probabilities for sample 12000 / 65532\n",
            "[t-SNE] Computed conditional probabilities for sample 13000 / 65532\n",
            "[t-SNE] Computed conditional probabilities for sample 14000 / 65532\n",
            "[t-SNE] Computed conditional probabilities for sample 15000 / 65532\n",
            "[t-SNE] Computed conditional probabilities for sample 16000 / 65532\n",
            "[t-SNE] Computed conditional probabilities for sample 17000 / 65532\n",
            "[t-SNE] Computed conditional probabilities for sample 18000 / 65532\n",
            "[t-SNE] Computed conditional probabilities for sample 19000 / 65532\n",
            "[t-SNE] Computed conditional probabilities for sample 20000 / 65532\n",
            "[t-SNE] Computed conditional probabilities for sample 21000 / 65532\n",
            "[t-SNE] Computed conditional probabilities for sample 22000 / 65532\n",
            "[t-SNE] Computed conditional probabilities for sample 23000 / 65532\n",
            "[t-SNE] Computed conditional probabilities for sample 24000 / 65532\n",
            "[t-SNE] Computed conditional probabilities for sample 25000 / 65532\n",
            "[t-SNE] Computed conditional probabilities for sample 26000 / 65532\n",
            "[t-SNE] Computed conditional probabilities for sample 27000 / 65532\n",
            "[t-SNE] Computed conditional probabilities for sample 28000 / 65532\n",
            "[t-SNE] Computed conditional probabilities for sample 29000 / 65532\n",
            "[t-SNE] Computed conditional probabilities for sample 30000 / 65532\n",
            "[t-SNE] Computed conditional probabilities for sample 31000 / 65532\n",
            "[t-SNE] Computed conditional probabilities for sample 32000 / 65532\n",
            "[t-SNE] Computed conditional probabilities for sample 33000 / 65532\n",
            "[t-SNE] Computed conditional probabilities for sample 34000 / 65532\n",
            "[t-SNE] Computed conditional probabilities for sample 35000 / 65532\n",
            "[t-SNE] Computed conditional probabilities for sample 36000 / 65532\n",
            "[t-SNE] Computed conditional probabilities for sample 37000 / 65532\n",
            "[t-SNE] Computed conditional probabilities for sample 38000 / 65532\n",
            "[t-SNE] Computed conditional probabilities for sample 39000 / 65532\n",
            "[t-SNE] Computed conditional probabilities for sample 40000 / 65532\n",
            "[t-SNE] Computed conditional probabilities for sample 41000 / 65532\n",
            "[t-SNE] Computed conditional probabilities for sample 42000 / 65532\n",
            "[t-SNE] Computed conditional probabilities for sample 43000 / 65532\n",
            "[t-SNE] Computed conditional probabilities for sample 44000 / 65532\n",
            "[t-SNE] Computed conditional probabilities for sample 45000 / 65532\n",
            "[t-SNE] Computed conditional probabilities for sample 46000 / 65532\n",
            "[t-SNE] Computed conditional probabilities for sample 47000 / 65532\n",
            "[t-SNE] Computed conditional probabilities for sample 48000 / 65532\n",
            "[t-SNE] Computed conditional probabilities for sample 49000 / 65532\n",
            "[t-SNE] Computed conditional probabilities for sample 50000 / 65532\n",
            "[t-SNE] Computed conditional probabilities for sample 51000 / 65532\n",
            "[t-SNE] Computed conditional probabilities for sample 52000 / 65532\n",
            "[t-SNE] Computed conditional probabilities for sample 53000 / 65532\n",
            "[t-SNE] Computed conditional probabilities for sample 54000 / 65532\n",
            "[t-SNE] Computed conditional probabilities for sample 55000 / 65532\n",
            "[t-SNE] Computed conditional probabilities for sample 56000 / 65532\n",
            "[t-SNE] Computed conditional probabilities for sample 57000 / 65532\n",
            "[t-SNE] Computed conditional probabilities for sample 58000 / 65532\n",
            "[t-SNE] Computed conditional probabilities for sample 59000 / 65532\n",
            "[t-SNE] Computed conditional probabilities for sample 60000 / 65532\n",
            "[t-SNE] Computed conditional probabilities for sample 61000 / 65532\n",
            "[t-SNE] Computed conditional probabilities for sample 62000 / 65532\n",
            "[t-SNE] Computed conditional probabilities for sample 63000 / 65532\n",
            "[t-SNE] Computed conditional probabilities for sample 64000 / 65532\n",
            "[t-SNE] Computed conditional probabilities for sample 65000 / 65532\n",
            "[t-SNE] Computed conditional probabilities for sample 65532 / 65532\n",
            "[t-SNE] Mean sigma: 0.000000\n",
            "[t-SNE] Computed conditional probabilities in 4.970s\n",
            "[t-SNE] Iteration 50: error = 112.4777451, gradient norm = 0.0225135 (50 iterations in 112.054s)\n",
            "[t-SNE] Iteration 100: error = 94.7648849, gradient norm = 0.0061515 (50 iterations in 56.907s)\n",
            "[t-SNE] Iteration 150: error = 89.2193756, gradient norm = 0.0043724 (50 iterations in 55.999s)\n",
            "[t-SNE] Iteration 200: error = 85.9418945, gradient norm = 0.0038185 (50 iterations in 55.629s)\n",
            "[t-SNE] Iteration 250: error = 83.5683212, gradient norm = 0.0034422 (50 iterations in 54.171s)\n",
            "[t-SNE] KL divergence after 250 iterations with early exaggeration: 83.568321\n",
            "[t-SNE] Iteration 300: error = 3.7260687, gradient norm = 0.0056101 (50 iterations in 54.283s)\n",
            "[t-SNE] Iteration 350: error = 2.9303517, gradient norm = 0.0061367 (50 iterations in 54.044s)\n",
            "[t-SNE] Iteration 400: error = 2.4298861, gradient norm = 0.0059336 (50 iterations in 52.693s)\n",
            "[t-SNE] Iteration 450: error = 2.1008725, gradient norm = 0.0056730 (50 iterations in 52.320s)\n",
            "[t-SNE] Iteration 500: error = 1.8652806, gradient norm = 0.0054430 (50 iterations in 52.301s)\n",
            "[t-SNE] Iteration 550: error = 1.6909322, gradient norm = 0.0050614 (50 iterations in 51.439s)\n",
            "[t-SNE] Iteration 600: error = 1.5628195, gradient norm = 0.0045777 (50 iterations in 50.356s)\n",
            "[t-SNE] Iteration 650: error = 1.4646733, gradient norm = 0.0041576 (50 iterations in 51.746s)\n",
            "[t-SNE] Iteration 700: error = 1.3866166, gradient norm = 0.0038444 (50 iterations in 50.670s)\n",
            "[t-SNE] Iteration 750: error = 1.3225808, gradient norm = 0.0035658 (50 iterations in 50.716s)\n",
            "[t-SNE] Iteration 800: error = 1.2697392, gradient norm = 0.0033243 (50 iterations in 49.253s)\n",
            "[t-SNE] Iteration 850: error = 1.2245439, gradient norm = 0.0031425 (50 iterations in 50.449s)\n",
            "[t-SNE] Iteration 900: error = 1.1857384, gradient norm = 0.0029535 (50 iterations in 50.597s)\n",
            "[t-SNE] Iteration 950: error = 1.1518863, gradient norm = 0.0027839 (50 iterations in 49.019s)\n",
            "[t-SNE] Iteration 1000: error = 1.1222687, gradient norm = 0.0026415 (50 iterations in 50.521s)\n",
            "[t-SNE] KL divergence after 1000 iterations: 1.122269\n"
          ]
        }
      ]
    },
    {
      "cell_type": "code",
      "source": [
        "df = pd.DataFrame({'x':tsne2d[:,0], 'y':tsne2d[:,1] ,'label':y})\n",
        "\n",
        "# draw the plot in appropriate place in the grid\n",
        "sns.lmplot(data=df, x='x', y='y', hue='label', fit_reg=False, palette=\"Set1\")\n",
        "plt.title(\"perplexity : {} and max_iter : {}\".format(30, 1000))\n",
        "plt.show()"
      ],
      "metadata": {
        "colab": {
          "base_uri": "https://localhost:8080/",
          "height": 523
        },
        "id": "0CHPvCYwkh7_",
        "outputId": "ef022765-a6ea-42cd-8c65-0fe79b3bf659"
      },
      "execution_count": null,
      "outputs": [
        {
          "output_type": "display_data",
          "data": {
            "text/plain": [
              "<Figure size 634.25x500 with 1 Axes>"
            ],
            "image/png": "[encoded data removed]"
          },
          "metadata": {}
        }
      ]
    },
    {
      "cell_type": "markdown",
      "source": [
        "Here we are looking at the 2 dimensional representation of the data.\n",
        "\n",
        "From this it is clear that most of the points of the allow class are well seperable from the other classes.\n",
        "\n",
        "While the drop, deny and reset labels are somewhat mixed up"
      ],
      "metadata": {
        "id": "u6iCM39uYBRN"
      }
    },
    {
      "cell_type": "code",
      "source": [
        "firewall_data.columns\n"
      ],
      "metadata": {
        "id": "upDaCOnikiGR",
        "colab": {
          "base_uri": "https://localhost:8080/"
        },
        "outputId": "b17c77ea-4299-4fa6-b795-2efd93d83c73"
      },
      "execution_count": null,
      "outputs": [
        {
          "output_type": "execute_result",
          "data": {
            "text/plain": [
              "Index(['source_port', 'destination_port', 'nat_source_port',\n",
              "       'nat_destination_port', 'action', 'bytes', 'bytes_sent',\n",
              "       'bytes_received', 'packets', 'elapsed_time_(sec)', 'pkts_sent',\n",
              "       'pkts_received'],\n",
              "      dtype='object')"
            ]
          },
          "metadata": {},
          "execution_count": 136
        }
      ]
    },
    {
      "cell_type": "markdown",
      "source": [
        "<h3> Feature engineering and Feature Selection </h3>"
      ],
      "metadata": {
        "id": "bC-tirZ9YmKW"
      }
    },
    {
      "cell_type": "markdown",
      "source": [
        "Port Difference\n",
        "\n",
        "What is port diffrence ?\n",
        "\n",
        "Computed as source port - nat source port (can also be applied to destination ports), the port diffrence is an indicator of if the nat is activated.\n",
        "\n",
        "A diffrence value beyond a certain threshold could also imply a nat strategy"
      ],
      "metadata": {
        "id": "5Nv2rZLdZ-14"
      }
    },
    {
      "cell_type": "code",
      "source": [
        "firewall_data['source_port_difference'] = abs(firewall_data['source_port'] - firewall_data['nat_source_port'])\n",
        "firewall_data['destination_port_difference'] = abs(firewall_data['destination_port'] - firewall_data['nat_destination_port'])"
      ],
      "metadata": {
        "id": "SK-4oEgTZI93"
      },
      "execution_count": 170,
      "outputs": []
    },
    {
      "cell_type": "markdown",
      "source": [
        "Port Types\n",
        "\n",
        "Based on the range of the source port and the destination port we classify them to either \"well-known\",\"registered\" or \"dynamic\"\n",
        "\n",
        "0–1023 -> well known\n",
        "1024–49151 -> registered\n",
        "49152–65535 -> dynamic"
      ],
      "metadata": {
        "id": "n1IQDFDdbfYr"
      }
    },
    {
      "cell_type": "code",
      "source": [
        "source_port_type = []\n",
        "destination_port_type = []\n",
        "\n",
        "for src_port in tqdm(firewall_data['source_port'].values):\n",
        "  # print(\"source port is \",src_port)\n",
        "  if src_port in range(0,1024):\n",
        "    source_port_type.append(\"well_known\")\n",
        "  elif src_port in range(1024,49152):\n",
        "    source_port_type.append(\"registered\")\n",
        "  elif src_port in range(49152,65536):\n",
        "    source_port_type.append(\"dynamic\")\n",
        "\n",
        "\n",
        "for dest_port in tqdm(firewall_data['destination_port'].values):\n",
        "  # print(\"source port is \",src_port)\n",
        "  if dest_port in range(0,1024):\n",
        "    destination_port_type.append(\"well_known\")\n",
        "  elif dest_port in range(1024,49152):\n",
        "    destination_port_type.append(\"registered\")\n",
        "  elif dest_port in range(49152,65536):\n",
        "    destination_port_type.append(\"dynamic\")\n",
        "\n",
        "\n",
        "firewall_data['source_port_type'] = source_port_type\n",
        "firewall_data['destination_port_type'] = destination_port_type"
      ],
      "metadata": {
        "colab": {
          "base_uri": "https://localhost:8080/"
        },
        "id": "OXE1AWyOZcHO",
        "outputId": "d07a6137-3b1c-4c84-c01a-2554533ba0c6"
      },
      "execution_count": 171,
      "outputs": [
        {
          "output_type": "stream",
          "name": "stderr",
          "text": [
            "100%|██████████| 65529/65529 [04:59<00:00, 218.80it/s]\n",
            "100%|██████████| 65529/65529 [01:04<00:00, 1021.74it/s]\n"
          ]
        }
      ]
    },
    {
      "cell_type": "code",
      "source": [],
      "metadata": {
        "id": "i5ynotCjuv7g"
      },
      "execution_count": null,
      "outputs": []
    },
    {
      "cell_type": "markdown",
      "source": [
        "Port Symmetry -\n",
        "\n",
        "What is port symmetry ?\n",
        "\n",
        "when the source port is same as the destination port, then we say that ports are symmetric in nature. While in  symmetric ports could be normal when testing application reusing the ports.\n",
        "\n",
        "However this could get suspicious when used as an evasion technique to confuse port confuse port-based firewalls or in malicious traffic."
      ],
      "metadata": {
        "id": "Aa3w8aC5vRbc"
      }
    },
    {
      "cell_type": "code",
      "source": [
        "source_dest_port_symm = []\n",
        "nat_src_dest_port_symm = []\n",
        "\n",
        "for row_index in tqdm(firewall_data.index):\n",
        "  if firewall_data.loc[row_index,'source_port'] == firewall_data.loc[row_index,'destination_port']:\n",
        "    source_dest_port_symm.append(1)\n",
        "  else:\n",
        "    source_dest_port_symm.append(0)\n",
        "\n",
        "\n",
        "\n",
        "for row_index in tqdm(firewall_data.index):\n",
        "  if firewall_data.loc[row_index,'nat_source_port'] == firewall_data.loc[row_index,'nat_destination_port']:\n",
        "    nat_src_dest_port_symm.append(1)\n",
        "  else:\n",
        "    nat_src_dest_port_symm.append(0)\n",
        "\n",
        "\n",
        "firewall_data['source_dest_port_symm'] = source_dest_port_symm\n",
        "firewall_data['nat_src_dest_port_symm'] = nat_src_dest_port_symm\n"
      ],
      "metadata": {
        "colab": {
          "base_uri": "https://localhost:8080/"
        },
        "id": "zMzNn9v1nxl-",
        "outputId": "f9439703-23b8-4efa-bbb8-345d2eb8f202"
      },
      "execution_count": 172,
      "outputs": [
        {
          "output_type": "stream",
          "name": "stderr",
          "text": [
            "100%|██████████| 65529/65529 [00:03<00:00, 20526.51it/s]\n",
            "100%|██████████| 65529/65529 [00:01<00:00, 61661.69it/s]\n"
          ]
        }
      ]
    },
    {
      "cell_type": "markdown",
      "source": [
        "Port match flags\n",
        "\n",
        "What is port match flags?\n",
        "\n",
        "when the source port number is same as the destination port number then we say that ports match. This can be applied to the destination ports as well.\n",
        "\n",
        "It means the NAT device (e.g., firewall or router) did not change the source port.NAT has no conflict and can preserve the original port.\n",
        "he NAT/firewall is set to preserve ports when possible.\n",
        "\n",
        "Also in a low traffic scenario there will not be need for translation.\n",
        "\n",
        "Sudden change in ports or lack of change could mean evasion or misconfiguration.\n",
        "\n",
        "Here same ports are flagged as 1 else 0"
      ],
      "metadata": {
        "id": "efg82x-SwaQE"
      }
    },
    {
      "cell_type": "code",
      "source": [
        "source_port_match_flag = []\n",
        "dest_port_match_flag = []\n",
        "\n",
        "\n",
        "for row_index in tqdm(firewall_data.index):\n",
        "  if firewall_data.loc[row_index,'source_port'] != firewall_data.loc[row_index,'nat_source_port']:\n",
        "    source_port_match_flag.append(1)\n",
        "  else:\n",
        "    source_port_match_flag.append(0)\n",
        "\n",
        "\n",
        "\n",
        "for row_index in tqdm(firewall_data.index):\n",
        "  if firewall_data.loc[row_index,'destination_port'] != firewall_data.loc[row_index,'nat_destination_port']:\n",
        "    dest_port_match_flag.append(1)\n",
        "  else:\n",
        "    dest_port_match_flag.append(0)\n",
        "\n",
        "\n",
        "firewall_data['source_port_match_flag'] = source_port_match_flag\n",
        "firewall_data['dest_port_match_flag'] = dest_port_match_flag\n",
        "\n"
      ],
      "metadata": {
        "colab": {
          "base_uri": "https://localhost:8080/"
        },
        "id": "wCc2WY1Qj2t5",
        "outputId": "f985ab45-b8f4-4eb8-8121-140dd78029dc"
      },
      "execution_count": 173,
      "outputs": [
        {
          "output_type": "stream",
          "name": "stderr",
          "text": [
            "100%|██████████| 65529/65529 [00:02<00:00, 31948.89it/s]\n",
            "100%|██████████| 65529/65529 [00:01<00:00, 61838.17it/s]\n"
          ]
        }
      ]
    },
    {
      "cell_type": "code",
      "source": [
        "firewall_data.head()"
      ],
      "metadata": {
        "colab": {
          "base_uri": "https://localhost:8080/",
          "height": 226
        },
        "id": "Gcx9tJY0j2jn",
        "outputId": "2f0d088e-8c2b-4531-8521-1ddde3f6c277"
      },
      "execution_count": 26,
      "outputs": [
        {
          "output_type": "execute_result",
          "data": {
            "text/plain": [
              "   source_port  destination_port  nat_source_port  nat_destination_port  \\\n",
              "0        57222                53            54587                    53   \n",
              "1        56258              3389            56258                  3389   \n",
              "2         6881             50321            43265                 50321   \n",
              "3        50553              3389            50553                  3389   \n",
              "4        50002               443            45848                   443   \n",
              "\n",
              "  action  bytes  bytes_sent  bytes_received  packets  elapsed_time_(sec)  \\\n",
              "0  allow    177          94              83        2                  30   \n",
              "1  allow   4768        1600            3168       19                  17   \n",
              "2  allow    238         118             120        2                1199   \n",
              "3  allow   3327        1438            1889       15                  17   \n",
              "4  allow  25358        6778           18580       31                  16   \n",
              "\n",
              "   pkts_sent  pkts_received  source_port_difference  \\\n",
              "0          1              1                    2635   \n",
              "1         10              9                       0   \n",
              "2          1              1                   36384   \n",
              "3          8              7                       0   \n",
              "4         13             18                    4154   \n",
              "\n",
              "   destination_port_difference source_port_type destination_port_type  \\\n",
              "0                            0          dynamic            well_known   \n",
              "1                            0          dynamic            registered   \n",
              "2                            0       registered               dynamic   \n",
              "3                            0          dynamic            registered   \n",
              "4                            0          dynamic            well_known   \n",
              "\n",
              "   source_dest_port_symm  nat_src_dest_port_symm  source_port_match_flag  \\\n",
              "0                      0                       0                       1   \n",
              "1                      0                       0                       0   \n",
              "2                      0                       0                       1   \n",
              "3                      0                       0                       0   \n",
              "4                      0                       0                       1   \n",
              "\n",
              "   dest_port_match_flag  \n",
              "0                     0  \n",
              "1                     0  \n",
              "2                     0  \n",
              "3                     0  \n",
              "4                     0  "
            ],
            "text/html": [
              "\n",
              "  <div id=\"df-ddfdccac-d357-4457-9f8d-d1a05af3bff0\" class=\"colab-df-container\">\n",
              "    <div>\n",
              "<style scoped>\n",
              "    .dataframe tbody tr th:only-of-type {\n",
              "        vertical-align: middle;\n",
              "    }\n",
              "\n",
              "    .dataframe tbody tr th {\n",
              "        vertical-align: top;\n",
              "    }\n",
              "\n",
              "    .dataframe thead th {\n",
              "        text-align: right;\n",
              "    }\n",
              "</style>\n",
              "<table border=\"1\" class=\"dataframe\">\n",
              "  <thead>\n",
              "    <tr style=\"text-align: right;\">\n",
              "      <th></th>\n",
              "      <th>source_port</th>\n",
              "      <th>destination_port</th>\n",
              "      <th>nat_source_port</th>\n",
              "      <th>nat_destination_port</th>\n",
              "      <th>action</th>\n",
              "      <th>bytes</th>\n",
              "      <th>bytes_sent</th>\n",
              "      <th>bytes_received</th>\n",
              "      <th>packets</th>\n",
              "      <th>elapsed_time_(sec)</th>\n",
              "      <th>pkts_sent</th>\n",
              "      <th>pkts_received</th>\n",
              "      <th>source_port_difference</th>\n",
              "      <th>destination_port_difference</th>\n",
              "      <th>source_port_type</th>\n",
              "      <th>destination_port_type</th>\n",
              "      <th>source_dest_port_symm</th>\n",
              "      <th>nat_src_dest_port_symm</th>\n",
              "      <th>source_port_match_flag</th>\n",
              "      <th>dest_port_match_flag</th>\n",
              "    </tr>\n",
              "  </thead>\n",
              "  <tbody>\n",
              "    <tr>\n",
              "      <th>0</th>\n",
              "      <td>57222</td>\n",
              "      <td>53</td>\n",
              "      <td>54587</td>\n",
              "      <td>53</td>\n",
              "      <td>allow</td>\n",
              "      <td>177</td>\n",
              "      <td>94</td>\n",
              "      <td>83</td>\n",
              "      <td>2</td>\n",
              "      <td>30</td>\n",
              "      <td>1</td>\n",
              "      <td>1</td>\n",
              "      <td>2635</td>\n",
              "      <td>0</td>\n",
              "      <td>dynamic</td>\n",
              "      <td>well_known</td>\n",
              "      <td>0</td>\n",
              "      <td>0</td>\n",
              "      <td>1</td>\n",
              "      <td>0</td>\n",
              "    </tr>\n",
              "    <tr>\n",
              "      <th>1</th>\n",
              "      <td>56258</td>\n",
              "      <td>3389</td>\n",
              "      <td>56258</td>\n",
              "      <td>3389</td>\n",
              "      <td>allow</td>\n",
              "      <td>4768</td>\n",
              "      <td>1600</td>\n",
              "      <td>3168</td>\n",
              "      <td>19</td>\n",
              "      <td>17</td>\n",
              "      <td>10</td>\n",
              "      <td>9</td>\n",
              "      <td>0</td>\n",
              "      <td>0</td>\n",
              "      <td>dynamic</td>\n",
              "      <td>registered</td>\n",
              "      <td>0</td>\n",
              "      <td>0</td>\n",
              "      <td>0</td>\n",
              "      <td>0</td>\n",
              "    </tr>\n",
              "    <tr>\n",
              "      <th>2</th>\n",
              "      <td>6881</td>\n",
              "      <td>50321</td>\n",
              "      <td>43265</td>\n",
              "      <td>50321</td>\n",
              "      <td>allow</td>\n",
              "      <td>238</td>\n",
              "      <td>118</td>\n",
              "      <td>120</td>\n",
              "      <td>2</td>\n",
              "      <td>1199</td>\n",
              "      <td>1</td>\n",
              "      <td>1</td>\n",
              "      <td>36384</td>\n",
              "      <td>0</td>\n",
              "      <td>registered</td>\n",
              "      <td>dynamic</td>\n",
              "      <td>0</td>\n",
              "      <td>0</td>\n",
              "      <td>1</td>\n",
              "      <td>0</td>\n",
              "    </tr>\n",
              "    <tr>\n",
              "      <th>3</th>\n",
              "      <td>50553</td>\n",
              "      <td>3389</td>\n",
              "      <td>50553</td>\n",
              "      <td>3389</td>\n",
              "      <td>allow</td>\n",
              "      <td>3327</td>\n",
              "      <td>1438</td>\n",
              "      <td>1889</td>\n",
              "      <td>15</td>\n",
              "      <td>17</td>\n",
              "      <td>8</td>\n",
              "      <td>7</td>\n",
              "      <td>0</td>\n",
              "      <td>0</td>\n",
              "      <td>dynamic</td>\n",
              "      <td>registered</td>\n",
              "      <td>0</td>\n",
              "      <td>0</td>\n",
              "      <td>0</td>\n",
              "      <td>0</td>\n",
              "    </tr>\n",
              "    <tr>\n",
              "      <th>4</th>\n",
              "      <td>50002</td>\n",
              "      <td>443</td>\n",
              "      <td>45848</td>\n",
              "      <td>443</td>\n",
              "      <td>allow</td>\n",
              "      <td>25358</td>\n",
              "      <td>6778</td>\n",
              "      <td>18580</td>\n",
              "      <td>31</td>\n",
              "      <td>16</td>\n",
              "      <td>13</td>\n",
              "      <td>18</td>\n",
              "      <td>4154</td>\n",
              "      <td>0</td>\n",
              "      <td>dynamic</td>\n",
              "      <td>well_known</td>\n",
              "      <td>0</td>\n",
              "      <td>0</td>\n",
              "      <td>1</td>\n",
              "      <td>0</td>\n",
              "    </tr>\n",
              "  </tbody>\n",
              "</table>\n",
              "</div>\n",
              "    <div class=\"colab-df-buttons\">\n",
              "\n",
              "  <div class=\"colab-df-container\">\n",
              "    <button class=\"colab-df-convert\" onclick=\"convertToInteractive('df-ddfdccac-d357-4457-9f8d-d1a05af3bff0')\"\n",
              "            title=\"Convert this dataframe to an interactive table.\"\n",
              "            style=\"display:none;\">\n",
              "\n",
              "  <svg xmlns=\"http://www.w3.org/2000/svg\" height=\"24px\" viewBox=\"0 -960 960 960\">\n",
              "    <path d=\"M120-120v-720h720v720H120Zm60-500h600v-160H180v160Zm220 220h160v-160H400v160Zm0 220h160v-160H400v160ZM180-400h160v-160H180v160Zm440 0h160v-160H620v160ZM180-180h160v-160H180v160Zm440 0h160v-160H620v160Z\"/>\n",
              "  </svg>\n",
              "    </button>\n",
              "\n",
              "  <style>\n",
              "    .colab-df-container {\n",
              "      display:flex;\n",
              "      gap: 12px;\n",
              "    }\n",
              "\n",
              "    .colab-df-convert {\n",
              "      background-color: #E8F0FE;\n",
              "      border: none;\n",
              "      border-radius: 50%;\n",
              "      cursor: pointer;\n",
              "      display: none;\n",
              "      fill: #1967D2;\n",
              "      height: 32px;\n",
              "      padding: 0 0 0 0;\n",
              "      width: 32px;\n",
              "    }\n",
              "\n",
              "    .colab-df-convert:hover {\n",
              "      background-color: #E2EBFA;\n",
              "      box-shadow: 0px 1px 2px rgba(60, 64, 67, 0.3), 0px 1px 3px 1px rgba(60, 64, 67, 0.15);\n",
              "      fill: #174EA6;\n",
              "    }\n",
              "\n",
              "    .colab-df-buttons div {\n",
              "      margin-bottom: 4px;\n",
              "    }\n",
              "\n",
              "    [theme=dark] .colab-df-convert {\n",
              "      background-color: #3B4455;\n",
              "      fill: #D2E3FC;\n",
              "    }\n",
              "\n",
              "    [theme=dark] .colab-df-convert:hover {\n",
              "      background-color: #434B5C;\n",
              "      box-shadow: 0px 1px 3px 1px rgba(0, 0, 0, 0.15);\n",
              "      filter: drop-shadow(0px 1px 2px rgba(0, 0, 0, 0.3));\n",
              "      fill: #FFFFFF;\n",
              "    }\n",
              "  </style>\n",
              "\n",
              "    <script>\n",
              "      const buttonEl =\n",
              "        document.querySelector('#df-ddfdccac-d357-4457-9f8d-d1a05af3bff0 button.colab-df-convert');\n",
              "      buttonEl.style.display =\n",
              "        google.colab.kernel.accessAllowed ? 'block' : 'none';\n",
              "\n",
              "      async function convertToInteractive(key) {\n",
              "        const element = document.querySelector('#df-ddfdccac-d357-4457-9f8d-d1a05af3bff0');\n",
              "        const dataTable =\n",
              "          await google.colab.kernel.invokeFunction('convertToInteractive',\n",
              "                                                    [key], {});\n",
              "        if (!dataTable) return;\n",
              "\n",
              "        const docLinkHtml = 'Like what you see? Visit the ' +\n",
              "          '<a target=\"_blank\" href=https://colab.research.google.com/notebooks/data_table.ipynb>data table notebook</a>'\n",
              "          + ' to learn more about interactive tables.';\n",
              "        element.innerHTML = '';\n",
              "        dataTable['output_type'] = 'display_data';\n",
              "        await google.colab.output.renderOutput(dataTable, element);\n",
              "        const docLink = document.createElement('div');\n",
              "        docLink.innerHTML = docLinkHtml;\n",
              "        element.appendChild(docLink);\n",
              "      }\n",
              "    </script>\n",
              "  </div>\n",
              "\n",
              "\n",
              "<div id=\"df-5a27937a-da5e-4d42-9f9c-a903b90544a5\">\n",
              "  <button class=\"colab-df-quickchart\" onclick=\"quickchart('df-5a27937a-da5e-4d42-9f9c-a903b90544a5')\"\n",
              "            title=\"Suggest charts\"\n",
              "            style=\"display:none;\">\n",
              "\n",
              "<svg xmlns=\"http://www.w3.org/2000/svg\" height=\"24px\"viewBox=\"0 0 24 24\"\n",
              "     width=\"24px\">\n",
              "    <g>\n",
              "        <path d=\"M19 3H5c-1.1 0-2 .9-2 2v14c0 1.1.9 2 2 2h14c1.1 0 2-.9 2-2V5c0-1.1-.9-2-2-2zM9 17H7v-7h2v7zm4 0h-2V7h2v10zm4 0h-2v-4h2v4z\"/>\n",
              "    </g>\n",
              "</svg>\n",
              "  </button>\n",
              "\n",
              "<style>\n",
              "  .colab-df-quickchart {\n",
              "      --bg-color: #E8F0FE;\n",
              "      --fill-color: #1967D2;\n",
              "      --hover-bg-color: #E2EBFA;\n",
              "      --hover-fill-color: #174EA6;\n",
              "      --disabled-fill-color: #AAA;\n",
              "      --disabled-bg-color: #DDD;\n",
              "  }\n",
              "\n",
              "  [theme=dark] .colab-df-quickchart {\n",
              "      --bg-color: #3B4455;\n",
              "      --fill-color: #D2E3FC;\n",
              "      --hover-bg-color: #434B5C;\n",
              "      --hover-fill-color: #FFFFFF;\n",
              "      --disabled-bg-color: #3B4455;\n",
              "      --disabled-fill-color: #666;\n",
              "  }\n",
              "\n",
              "  .colab-df-quickchart {\n",
              "    background-color: var(--bg-color);\n",
              "    border: none;\n",
              "    border-radius: 50%;\n",
              "    cursor: pointer;\n",
              "    display: none;\n",
              "    fill: var(--fill-color);\n",
              "    height: 32px;\n",
              "    padding: 0;\n",
              "    width: 32px;\n",
              "  }\n",
              "\n",
              "  .colab-df-quickchart:hover {\n",
              "    background-color: var(--hover-bg-color);\n",
              "    box-shadow: 0 1px 2px rgba(60, 64, 67, 0.3), 0 1px 3px 1px rgba(60, 64, 67, 0.15);\n",
              "    fill: var(--button-hover-fill-color);\n",
              "  }\n",
              "\n",
              "  .colab-df-quickchart-complete:disabled,\n",
              "  .colab-df-quickchart-complete:disabled:hover {\n",
              "    background-color: var(--disabled-bg-color);\n",
              "    fill: var(--disabled-fill-color);\n",
              "    box-shadow: none;\n",
              "  }\n",
              "\n",
              "  .colab-df-spinner {\n",
              "    border: 2px solid var(--fill-color);\n",
              "    border-color: transparent;\n",
              "    border-bottom-color: var(--fill-color);\n",
              "    animation:\n",
              "      spin 1s steps(1) infinite;\n",
              "  }\n",
              "\n",
              "  @keyframes spin {\n",
              "    0% {\n",
              "      border-color: transparent;\n",
              "      border-bottom-color: var(--fill-color);\n",
              "      border-left-color: var(--fill-color);\n",
              "    }\n",
              "    20% {\n",
              "      border-color: transparent;\n",
              "      border-left-color: var(--fill-color);\n",
              "      border-top-color: var(--fill-color);\n",
              "    }\n",
              "    30% {\n",
              "      border-color: transparent;\n",
              "      border-left-color: var(--fill-color);\n",
              "      border-top-color: var(--fill-color);\n",
              "      border-right-color: var(--fill-color);\n",
              "    }\n",
              "    40% {\n",
              "      border-color: transparent;\n",
              "      border-right-color: var(--fill-color);\n",
              "      border-top-color: var(--fill-color);\n",
              "    }\n",
              "    60% {\n",
              "      border-color: transparent;\n",
              "      border-right-color: var(--fill-color);\n",
              "    }\n",
              "    80% {\n",
              "      border-color: transparent;\n",
              "      border-right-color: var(--fill-color);\n",
              "      border-bottom-color: var(--fill-color);\n",
              "    }\n",
              "    90% {\n",
              "      border-color: transparent;\n",
              "      border-bottom-color: var(--fill-color);\n",
              "    }\n",
              "  }\n",
              "</style>\n",
              "\n",
              "  <script>\n",
              "    async function quickchart(key) {\n",
              "      const quickchartButtonEl =\n",
              "        document.querySelector('#' + key + ' button');\n",
              "      quickchartButtonEl.disabled = true;  // To prevent multiple clicks.\n",
              "      quickchartButtonEl.classList.add('colab-df-spinner');\n",
              "      try {\n",
              "        const charts = await google.colab.kernel.invokeFunction(\n",
              "            'suggestCharts', [key], {});\n",
              "      } catch (error) {\n",
              "        console.error('Error during call to suggestCharts:', error);\n",
              "      }\n",
              "      quickchartButtonEl.classList.remove('colab-df-spinner');\n",
              "      quickchartButtonEl.classList.add('colab-df-quickchart-complete');\n",
              "    }\n",
              "    (() => {\n",
              "      let quickchartButtonEl =\n",
              "        document.querySelector('#df-5a27937a-da5e-4d42-9f9c-a903b90544a5 button');\n",
              "      quickchartButtonEl.style.display =\n",
              "        google.colab.kernel.accessAllowed ? 'block' : 'none';\n",
              "    })();\n",
              "  </script>\n",
              "</div>\n",
              "\n",
              "    </div>\n",
              "  </div>\n"
            ],
            "application/vnd.google.colaboratory.intrinsic+json": {
              "type": "dataframe",
              "variable_name": "firewall_data",
              "summary": "{\n  \"name\": \"firewall_data\",\n  \"rows\": 65529,\n  \"fields\": [\n    {\n      \"column\": \"source_port\",\n      \"properties\": {\n        \"dtype\": \"number\",\n        \"std\": 15255,\n        \"min\": 0,\n        \"max\": 65534,\n        \"num_unique_values\": 22723,\n        \"samples\": [\n          22125,\n          46414,\n          60145\n        ],\n        \"semantic_type\": \"\",\n        \"description\": \"\"\n      }\n    },\n    {\n      \"column\": \"destination_port\",\n      \"properties\": {\n        \"dtype\": \"number\",\n        \"std\": 18466,\n        \"min\": 0,\n        \"max\": 65535,\n        \"num_unique_values\": 3271,\n        \"samples\": [\n          37628,\n          3855,\n          50263\n        ],\n        \"semantic_type\": \"\",\n        \"description\": \"\"\n      }\n    },\n    {\n      \"column\": \"nat_source_port\",\n      \"properties\": {\n        \"dtype\": \"number\",\n        \"std\": 21971,\n        \"min\": 0,\n        \"max\": 65535,\n        \"num_unique_values\": 29150,\n        \"samples\": [\n          40540,\n          49106,\n          1451\n        ],\n        \"semantic_type\": \"\",\n        \"description\": \"\"\n      }\n    },\n    {\n      \"column\": \"nat_destination_port\",\n      \"properties\": {\n        \"dtype\": \"number\",\n        \"std\": 9739,\n        \"min\": 0,\n        \"max\": 65535,\n        \"num_unique_values\": 2531,\n        \"samples\": [\n          31151,\n          17548,\n          8080\n        ],\n        \"semantic_type\": \"\",\n        \"description\": \"\"\n      }\n    },\n    {\n      \"column\": \"action\",\n      \"properties\": {\n        \"dtype\": \"category\",\n        \"num_unique_values\": 4,\n        \"samples\": [\n          \"drop\",\n          \"reset-both\",\n          \"allow\"\n        ],\n        \"semantic_type\": \"\",\n        \"description\": \"\"\n      }\n    },\n    {\n      \"column\": \"bytes\",\n      \"properties\": {\n        \"dtype\": \"number\",\n        \"std\": 2043489,\n        \"min\": 60,\n        \"max\": 307104860,\n        \"num_unique_values\": 10721,\n        \"samples\": [\n          3941,\n          3153,\n          13719\n        ],\n        \"semantic_type\": \"\",\n        \"description\": \"\"\n      }\n    },\n    {\n      \"column\": \"bytes_sent\",\n      \"properties\": {\n        \"dtype\": \"number\",\n        \"std\": 481588,\n        \"min\": 60,\n        \"max\": 122661116,\n        \"num_unique_values\": 6680,\n        \"samples\": [\n          2321,\n          1263,\n          5331\n        ],\n        \"semantic_type\": \"\",\n        \"description\": \"\"\n      }\n    },\n    {\n      \"column\": \"bytes_received\",\n      \"properties\": {\n        \"dtype\": \"number\",\n        \"std\": 1946497,\n        \"min\": 0,\n        \"max\": 304353862,\n        \"num_unique_values\": 8811,\n        \"samples\": [\n          6025,\n          1431,\n          19215\n        ],\n        \"semantic_type\": \"\",\n        \"description\": \"\"\n      }\n    },\n    {\n      \"column\": \"packets\",\n      \"properties\": {\n        \"dtype\": \"number\",\n        \"std\": 1949,\n        \"min\": 1,\n        \"max\": 238334,\n        \"num_unique_values\": 1114,\n        \"samples\": [\n          93687,\n          44,\n          9309\n        ],\n        \"semantic_type\": \"\",\n        \"description\": \"\"\n      }\n    },\n    {\n      \"column\": \"elapsed_time_(sec)\",\n      \"properties\": {\n        \"dtype\": \"number\",\n        \"std\": 297,\n        \"min\": 0,\n        \"max\": 9851,\n        \"num_unique_values\": 912,\n        \"samples\": [\n          3747,\n          619,\n          686\n        ],\n        \"semantic_type\": \"\",\n        \"description\": \"\"\n      }\n    },\n    {\n      \"column\": \"pkts_sent\",\n      \"properties\": {\n        \"dtype\": \"number\",\n        \"std\": 616,\n        \"min\": 1,\n        \"max\": 82907,\n        \"num_unique_values\": 747,\n        \"samples\": [\n          455,\n          463,\n          171\n        ],\n        \"semantic_type\": \"\",\n        \"description\": \"\"\n      }\n    },\n    {\n      \"column\": \"pkts_received\",\n      \"properties\": {\n        \"dtype\": \"number\",\n        \"std\": 1428,\n        \"min\": 0,\n        \"max\": 219580,\n        \"num_unique_values\": 920,\n        \"samples\": [\n          397,\n          191,\n          6002\n        ],\n        \"semantic_type\": \"\",\n        \"description\": \"\"\n      }\n    },\n    {\n      \"column\": \"source_port_difference\",\n      \"properties\": {\n        \"dtype\": \"number\",\n        \"std\": 21673,\n        \"min\": 0,\n        \"max\": 65533,\n        \"num_unique_values\": 35957,\n        \"samples\": [\n          14987,\n          49204,\n          47\n        ],\n        \"semantic_type\": \"\",\n        \"description\": \"\"\n      }\n    },\n    {\n      \"column\": \"destination_port_difference\",\n      \"properties\": {\n        \"dtype\": \"number\",\n        \"std\": 16981,\n        \"min\": 0,\n        \"max\": 65504,\n        \"num_unique_values\": 800,\n        \"samples\": [\n          47512,\n          61600,\n          23718\n        ],\n        \"semantic_type\": \"\",\n        \"description\": \"\"\n      }\n    },\n    {\n      \"column\": \"source_port_type\",\n      \"properties\": {\n        \"dtype\": \"category\",\n        \"num_unique_values\": 3,\n        \"samples\": [\n          \"dynamic\",\n          \"registered\",\n          \"well_known\"\n        ],\n        \"semantic_type\": \"\",\n        \"description\": \"\"\n      }\n    },\n    {\n      \"column\": \"destination_port_type\",\n      \"properties\": {\n        \"dtype\": \"category\",\n        \"num_unique_values\": 3,\n        \"samples\": [\n          \"well_known\",\n          \"registered\",\n          \"dynamic\"\n        ],\n        \"semantic_type\": \"\",\n        \"description\": \"\"\n      }\n    },\n    {\n      \"column\": \"source_dest_port_symm\",\n      \"properties\": {\n        \"dtype\": \"number\",\n        \"std\": 0,\n        \"min\": 0,\n        \"max\": 1,\n        \"num_unique_values\": 2,\n        \"samples\": [\n          1,\n          0\n        ],\n        \"semantic_type\": \"\",\n        \"description\": \"\"\n      }\n    },\n    {\n      \"column\": \"nat_src_dest_port_symm\",\n      \"properties\": {\n        \"dtype\": \"number\",\n        \"std\": 0,\n        \"min\": 0,\n        \"max\": 1,\n        \"num_unique_values\": 2,\n        \"samples\": [\n          1,\n          0\n        ],\n        \"semantic_type\": \"\",\n        \"description\": \"\"\n      }\n    },\n    {\n      \"column\": \"source_port_match_flag\",\n      \"properties\": {\n        \"dtype\": \"number\",\n        \"std\": 0,\n        \"min\": 0,\n        \"max\": 1,\n        \"num_unique_values\": 2,\n        \"samples\": [\n          0,\n          1\n        ],\n        \"semantic_type\": \"\",\n        \"description\": \"\"\n      }\n    },\n    {\n      \"column\": \"dest_port_match_flag\",\n      \"properties\": {\n        \"dtype\": \"number\",\n        \"std\": 0,\n        \"min\": 0,\n        \"max\": 1,\n        \"num_unique_values\": 2,\n        \"samples\": [\n          1,\n          0\n        ],\n        \"semantic_type\": \"\",\n        \"description\": \"\"\n      }\n    }\n  ]\n}"
            }
          },
          "metadata": {},
          "execution_count": 26
        }
      ]
    },
    {
      "cell_type": "code",
      "source": [
        "firewall_data.shape"
      ],
      "metadata": {
        "colab": {
          "base_uri": "https://localhost:8080/"
        },
        "id": "0dsK5qw0Lk4Z",
        "outputId": "186bfa73-8725-43bb-bbdc-209c533a76b4"
      },
      "execution_count": 174,
      "outputs": [
        {
          "output_type": "execute_result",
          "data": {
            "text/plain": [
              "(65529, 20)"
            ]
          },
          "metadata": {},
          "execution_count": 174
        }
      ]
    },
    {
      "cell_type": "code",
      "source": [],
      "metadata": {
        "id": "-XbB7IkAzaFo"
      },
      "execution_count": null,
      "outputs": []
    },
    {
      "cell_type": "markdown",
      "source": [
        "Note -\n",
        "\n",
        "Columns such as source port, destination port, nat source port and nat destination ports are id's used to identify the parties betwenn whom the connection must be established. They cannot be considered as meaningful numberes in itself.\n",
        "A port value 0f 1000 cannot be considered less then another port value of 1112.\n",
        "\n",
        "Hence using these columns, features such as port diffrence,port range, port match flag and port symmetry are extracted and the actual port values are later dropped from the features list"
      ],
      "metadata": {
        "id": "dxnB0Niazass"
      }
    },
    {
      "cell_type": "code",
      "source": [
        "final_firewall_data_df = firewall_data.drop(['source_port','destination_port','nat_source_port','nat_destination_port'],axis = 1)"
      ],
      "metadata": {
        "id": "YtBhieV2j2L2"
      },
      "execution_count": 175,
      "outputs": []
    },
    {
      "cell_type": "code",
      "source": [
        "final_firewall_data_df.head()"
      ],
      "metadata": {
        "colab": {
          "base_uri": "https://localhost:8080/",
          "height": 226
        },
        "id": "HKx5W8ZH-e7r",
        "outputId": "796525ef-d8d5-47c2-c1e9-239585aba328"
      },
      "execution_count": 176,
      "outputs": [
        {
          "output_type": "execute_result",
          "data": {
            "text/plain": [
              "  action  bytes  bytes_sent  bytes_received  packets  elapsed_time_(sec)  \\\n",
              "0  allow    177          94              83        2                  30   \n",
              "1  allow   4768        1600            3168       19                  17   \n",
              "2  allow    238         118             120        2                1199   \n",
              "3  allow   3327        1438            1889       15                  17   \n",
              "4  allow  25358        6778           18580       31                  16   \n",
              "\n",
              "   pkts_sent  pkts_received  source_port_difference  \\\n",
              "0          1              1                    2635   \n",
              "1         10              9                       0   \n",
              "2          1              1                   36384   \n",
              "3          8              7                       0   \n",
              "4         13             18                    4154   \n",
              "\n",
              "   destination_port_difference source_port_type destination_port_type  \\\n",
              "0                            0          dynamic            well_known   \n",
              "1                            0          dynamic            registered   \n",
              "2                            0       registered               dynamic   \n",
              "3                            0          dynamic            registered   \n",
              "4                            0          dynamic            well_known   \n",
              "\n",
              "   source_dest_port_symm  nat_src_dest_port_symm  source_port_match_flag  \\\n",
              "0                      0                       0                       1   \n",
              "1                      0                       0                       0   \n",
              "2                      0                       0                       1   \n",
              "3                      0                       0                       0   \n",
              "4                      0                       0                       1   \n",
              "\n",
              "   dest_port_match_flag  \n",
              "0                     0  \n",
              "1                     0  \n",
              "2                     0  \n",
              "3                     0  \n",
              "4                     0  "
            ],
            "text/html": [
              "\n",
              "  <div id=\"df-1e14f0d1-d631-4a72-bfe4-a4182c0c710b\" class=\"colab-df-container\">\n",
              "    <div>\n",
              "<style scoped>\n",
              "    .dataframe tbody tr th:only-of-type {\n",
              "        vertical-align: middle;\n",
              "    }\n",
              "\n",
              "    .dataframe tbody tr th {\n",
              "        vertical-align: top;\n",
              "    }\n",
              "\n",
              "    .dataframe thead th {\n",
              "        text-align: right;\n",
              "    }\n",
              "</style>\n",
              "<table border=\"1\" class=\"dataframe\">\n",
              "  <thead>\n",
              "    <tr style=\"text-align: right;\">\n",
              "      <th></th>\n",
              "      <th>action</th>\n",
              "      <th>bytes</th>\n",
              "      <th>bytes_sent</th>\n",
              "      <th>bytes_received</th>\n",
              "      <th>packets</th>\n",
              "      <th>elapsed_time_(sec)</th>\n",
              "      <th>pkts_sent</th>\n",
              "      <th>pkts_received</th>\n",
              "      <th>source_port_difference</th>\n",
              "      <th>destination_port_difference</th>\n",
              "      <th>source_port_type</th>\n",
              "      <th>destination_port_type</th>\n",
              "      <th>source_dest_port_symm</th>\n",
              "      <th>nat_src_dest_port_symm</th>\n",
              "      <th>source_port_match_flag</th>\n",
              "      <th>dest_port_match_flag</th>\n",
              "    </tr>\n",
              "  </thead>\n",
              "  <tbody>\n",
              "    <tr>\n",
              "      <th>0</th>\n",
              "      <td>allow</td>\n",
              "      <td>177</td>\n",
              "      <td>94</td>\n",
              "      <td>83</td>\n",
              "      <td>2</td>\n",
              "      <td>30</td>\n",
              "      <td>1</td>\n",
              "      <td>1</td>\n",
              "      <td>2635</td>\n",
              "      <td>0</td>\n",
              "      <td>dynamic</td>\n",
              "      <td>well_known</td>\n",
              "      <td>0</td>\n",
              "      <td>0</td>\n",
              "      <td>1</td>\n",
              "      <td>0</td>\n",
              "    </tr>\n",
              "    <tr>\n",
              "      <th>1</th>\n",
              "      <td>allow</td>\n",
              "      <td>4768</td>\n",
              "      <td>1600</td>\n",
              "      <td>3168</td>\n",
              "      <td>19</td>\n",
              "      <td>17</td>\n",
              "      <td>10</td>\n",
              "      <td>9</td>\n",
              "      <td>0</td>\n",
              "      <td>0</td>\n",
              "      <td>dynamic</td>\n",
              "      <td>registered</td>\n",
              "      <td>0</td>\n",
              "      <td>0</td>\n",
              "      <td>0</td>\n",
              "      <td>0</td>\n",
              "    </tr>\n",
              "    <tr>\n",
              "      <th>2</th>\n",
              "      <td>allow</td>\n",
              "      <td>238</td>\n",
              "      <td>118</td>\n",
              "      <td>120</td>\n",
              "      <td>2</td>\n",
              "      <td>1199</td>\n",
              "      <td>1</td>\n",
              "      <td>1</td>\n",
              "      <td>36384</td>\n",
              "      <td>0</td>\n",
              "      <td>registered</td>\n",
              "      <td>dynamic</td>\n",
              "      <td>0</td>\n",
              "      <td>0</td>\n",
              "      <td>1</td>\n",
              "      <td>0</td>\n",
              "    </tr>\n",
              "    <tr>\n",
              "      <th>3</th>\n",
              "      <td>allow</td>\n",
              "      <td>3327</td>\n",
              "      <td>1438</td>\n",
              "      <td>1889</td>\n",
              "      <td>15</td>\n",
              "      <td>17</td>\n",
              "      <td>8</td>\n",
              "      <td>7</td>\n",
              "      <td>0</td>\n",
              "      <td>0</td>\n",
              "      <td>dynamic</td>\n",
              "      <td>registered</td>\n",
              "      <td>0</td>\n",
              "      <td>0</td>\n",
              "      <td>0</td>\n",
              "      <td>0</td>\n",
              "    </tr>\n",
              "    <tr>\n",
              "      <th>4</th>\n",
              "      <td>allow</td>\n",
              "      <td>25358</td>\n",
              "      <td>6778</td>\n",
              "      <td>18580</td>\n",
              "      <td>31</td>\n",
              "      <td>16</td>\n",
              "      <td>13</td>\n",
              "      <td>18</td>\n",
              "      <td>4154</td>\n",
              "      <td>0</td>\n",
              "      <td>dynamic</td>\n",
              "      <td>well_known</td>\n",
              "      <td>0</td>\n",
              "      <td>0</td>\n",
              "      <td>1</td>\n",
              "      <td>0</td>\n",
              "    </tr>\n",
              "  </tbody>\n",
              "</table>\n",
              "</div>\n",
              "    <div class=\"colab-df-buttons\">\n",
              "\n",
              "  <div class=\"colab-df-container\">\n",
              "    <button class=\"colab-df-convert\" onclick=\"convertToInteractive('df-1e14f0d1-d631-4a72-bfe4-a4182c0c710b')\"\n",
              "            title=\"Convert this dataframe to an interactive table.\"\n",
              "            style=\"display:none;\">\n",
              "\n",
              "  <svg xmlns=\"http://www.w3.org/2000/svg\" height=\"24px\" viewBox=\"0 -960 960 960\">\n",
              "    <path d=\"M120-120v-720h720v720H120Zm60-500h600v-160H180v160Zm220 220h160v-160H400v160Zm0 220h160v-160H400v160ZM180-400h160v-160H180v160Zm440 0h160v-160H620v160ZM180-180h160v-160H180v160Zm440 0h160v-160H620v160Z\"/>\n",
              "  </svg>\n",
              "    </button>\n",
              "\n",
              "  <style>\n",
              "    .colab-df-container {\n",
              "      display:flex;\n",
              "      gap: 12px;\n",
              "    }\n",
              "\n",
              "    .colab-df-convert {\n",
              "      background-color: #E8F0FE;\n",
              "      border: none;\n",
              "      border-radius: 50%;\n",
              "      cursor: pointer;\n",
              "      display: none;\n",
              "      fill: #1967D2;\n",
              "      height: 32px;\n",
              "      padding: 0 0 0 0;\n",
              "      width: 32px;\n",
              "    }\n",
              "\n",
              "    .colab-df-convert:hover {\n",
              "      background-color: #E2EBFA;\n",
              "      box-shadow: 0px 1px 2px rgba(60, 64, 67, 0.3), 0px 1px 3px 1px rgba(60, 64, 67, 0.15);\n",
              "      fill: #174EA6;\n",
              "    }\n",
              "\n",
              "    .colab-df-buttons div {\n",
              "      margin-bottom: 4px;\n",
              "    }\n",
              "\n",
              "    [theme=dark] .colab-df-convert {\n",
              "      background-color: #3B4455;\n",
              "      fill: #D2E3FC;\n",
              "    }\n",
              "\n",
              "    [theme=dark] .colab-df-convert:hover {\n",
              "      background-color: #434B5C;\n",
              "      box-shadow: 0px 1px 3px 1px rgba(0, 0, 0, 0.15);\n",
              "      filter: drop-shadow(0px 1px 2px rgba(0, 0, 0, 0.3));\n",
              "      fill: #FFFFFF;\n",
              "    }\n",
              "  </style>\n",
              "\n",
              "    <script>\n",
              "      const buttonEl =\n",
              "        document.querySelector('#df-1e14f0d1-d631-4a72-bfe4-a4182c0c710b button.colab-df-convert');\n",
              "      buttonEl.style.display =\n",
              "        google.colab.kernel.accessAllowed ? 'block' : 'none';\n",
              "\n",
              "      async function convertToInteractive(key) {\n",
              "        const element = document.querySelector('#df-1e14f0d1-d631-4a72-bfe4-a4182c0c710b');\n",
              "        const dataTable =\n",
              "          await google.colab.kernel.invokeFunction('convertToInteractive',\n",
              "                                                    [key], {});\n",
              "        if (!dataTable) return;\n",
              "\n",
              "        const docLinkHtml = 'Like what you see? Visit the ' +\n",
              "          '<a target=\"_blank\" href=https://colab.research.google.com/notebooks/data_table.ipynb>data table notebook</a>'\n",
              "          + ' to learn more about interactive tables.';\n",
              "        element.innerHTML = '';\n",
              "        dataTable['output_type'] = 'display_data';\n",
              "        await google.colab.output.renderOutput(dataTable, element);\n",
              "        const docLink = document.createElement('div');\n",
              "        docLink.innerHTML = docLinkHtml;\n",
              "        element.appendChild(docLink);\n",
              "      }\n",
              "    </script>\n",
              "  </div>\n",
              "\n",
              "\n",
              "<div id=\"df-2c03a942-93a6-4b3b-85cd-a040fbc09100\">\n",
              "  <button class=\"colab-df-quickchart\" onclick=\"quickchart('df-2c03a942-93a6-4b3b-85cd-a040fbc09100')\"\n",
              "            title=\"Suggest charts\"\n",
              "            style=\"display:none;\">\n",
              "\n",
              "<svg xmlns=\"http://www.w3.org/2000/svg\" height=\"24px\"viewBox=\"0 0 24 24\"\n",
              "     width=\"24px\">\n",
              "    <g>\n",
              "        <path d=\"M19 3H5c-1.1 0-2 .9-2 2v14c0 1.1.9 2 2 2h14c1.1 0 2-.9 2-2V5c0-1.1-.9-2-2-2zM9 17H7v-7h2v7zm4 0h-2V7h2v10zm4 0h-2v-4h2v4z\"/>\n",
              "    </g>\n",
              "</svg>\n",
              "  </button>\n",
              "\n",
              "<style>\n",
              "  .colab-df-quickchart {\n",
              "      --bg-color: #E8F0FE;\n",
              "      --fill-color: #1967D2;\n",
              "      --hover-bg-color: #E2EBFA;\n",
              "      --hover-fill-color: #174EA6;\n",
              "      --disabled-fill-color: #AAA;\n",
              "      --disabled-bg-color: #DDD;\n",
              "  }\n",
              "\n",
              "  [theme=dark] .colab-df-quickchart {\n",
              "      --bg-color: #3B4455;\n",
              "      --fill-color: #D2E3FC;\n",
              "      --hover-bg-color: #434B5C;\n",
              "      --hover-fill-color: #FFFFFF;\n",
              "      --disabled-bg-color: #3B4455;\n",
              "      --disabled-fill-color: #666;\n",
              "  }\n",
              "\n",
              "  .colab-df-quickchart {\n",
              "    background-color: var(--bg-color);\n",
              "    border: none;\n",
              "    border-radius: 50%;\n",
              "    cursor: pointer;\n",
              "    display: none;\n",
              "    fill: var(--fill-color);\n",
              "    height: 32px;\n",
              "    padding: 0;\n",
              "    width: 32px;\n",
              "  }\n",
              "\n",
              "  .colab-df-quickchart:hover {\n",
              "    background-color: var(--hover-bg-color);\n",
              "    box-shadow: 0 1px 2px rgba(60, 64, 67, 0.3), 0 1px 3px 1px rgba(60, 64, 67, 0.15);\n",
              "    fill: var(--button-hover-fill-color);\n",
              "  }\n",
              "\n",
              "  .colab-df-quickchart-complete:disabled,\n",
              "  .colab-df-quickchart-complete:disabled:hover {\n",
              "    background-color: var(--disabled-bg-color);\n",
              "    fill: var(--disabled-fill-color);\n",
              "    box-shadow: none;\n",
              "  }\n",
              "\n",
              "  .colab-df-spinner {\n",
              "    border: 2px solid var(--fill-color);\n",
              "    border-color: transparent;\n",
              "    border-bottom-color: var(--fill-color);\n",
              "    animation:\n",
              "      spin 1s steps(1) infinite;\n",
              "  }\n",
              "\n",
              "  @keyframes spin {\n",
              "    0% {\n",
              "      border-color: transparent;\n",
              "      border-bottom-color: var(--fill-color);\n",
              "      border-left-color: var(--fill-color);\n",
              "    }\n",
              "    20% {\n",
              "      border-color: transparent;\n",
              "      border-left-color: var(--fill-color);\n",
              "      border-top-color: var(--fill-color);\n",
              "    }\n",
              "    30% {\n",
              "      border-color: transparent;\n",
              "      border-left-color: var(--fill-color);\n",
              "      border-top-color: var(--fill-color);\n",
              "      border-right-color: var(--fill-color);\n",
              "    }\n",
              "    40% {\n",
              "      border-color: transparent;\n",
              "      border-right-color: var(--fill-color);\n",
              "      border-top-color: var(--fill-color);\n",
              "    }\n",
              "    60% {\n",
              "      border-color: transparent;\n",
              "      border-right-color: var(--fill-color);\n",
              "    }\n",
              "    80% {\n",
              "      border-color: transparent;\n",
              "      border-right-color: var(--fill-color);\n",
              "      border-bottom-color: var(--fill-color);\n",
              "    }\n",
              "    90% {\n",
              "      border-color: transparent;\n",
              "      border-bottom-color: var(--fill-color);\n",
              "    }\n",
              "  }\n",
              "</style>\n",
              "\n",
              "  <script>\n",
              "    async function quickchart(key) {\n",
              "      const quickchartButtonEl =\n",
              "        document.querySelector('#' + key + ' button');\n",
              "      quickchartButtonEl.disabled = true;  // To prevent multiple clicks.\n",
              "      quickchartButtonEl.classList.add('colab-df-spinner');\n",
              "      try {\n",
              "        const charts = await google.colab.kernel.invokeFunction(\n",
              "            'suggestCharts', [key], {});\n",
              "      } catch (error) {\n",
              "        console.error('Error during call to suggestCharts:', error);\n",
              "      }\n",
              "      quickchartButtonEl.classList.remove('colab-df-spinner');\n",
              "      quickchartButtonEl.classList.add('colab-df-quickchart-complete');\n",
              "    }\n",
              "    (() => {\n",
              "      let quickchartButtonEl =\n",
              "        document.querySelector('#df-2c03a942-93a6-4b3b-85cd-a040fbc09100 button');\n",
              "      quickchartButtonEl.style.display =\n",
              "        google.colab.kernel.accessAllowed ? 'block' : 'none';\n",
              "    })();\n",
              "  </script>\n",
              "</div>\n",
              "\n",
              "    </div>\n",
              "  </div>\n"
            ],
            "application/vnd.google.colaboratory.intrinsic+json": {
              "type": "dataframe",
              "variable_name": "final_firewall_data_df",
              "summary": "{\n  \"name\": \"final_firewall_data_df\",\n  \"rows\": 65529,\n  \"fields\": [\n    {\n      \"column\": \"action\",\n      \"properties\": {\n        \"dtype\": \"category\",\n        \"num_unique_values\": 4,\n        \"samples\": [\n          \"drop\",\n          \"reset-both\",\n          \"allow\"\n        ],\n        \"semantic_type\": \"\",\n        \"description\": \"\"\n      }\n    },\n    {\n      \"column\": \"bytes\",\n      \"properties\": {\n        \"dtype\": \"number\",\n        \"std\": 2043489,\n        \"min\": 60,\n        \"max\": 307104860,\n        \"num_unique_values\": 10721,\n        \"samples\": [\n          3941,\n          3153,\n          13719\n        ],\n        \"semantic_type\": \"\",\n        \"description\": \"\"\n      }\n    },\n    {\n      \"column\": \"bytes_sent\",\n      \"properties\": {\n        \"dtype\": \"number\",\n        \"std\": 481588,\n        \"min\": 60,\n        \"max\": 122661116,\n        \"num_unique_values\": 6680,\n        \"samples\": [\n          2321,\n          1263,\n          5331\n        ],\n        \"semantic_type\": \"\",\n        \"description\": \"\"\n      }\n    },\n    {\n      \"column\": \"bytes_received\",\n      \"properties\": {\n        \"dtype\": \"number\",\n        \"std\": 1946497,\n        \"min\": 0,\n        \"max\": 304353862,\n        \"num_unique_values\": 8811,\n        \"samples\": [\n          6025,\n          1431,\n          19215\n        ],\n        \"semantic_type\": \"\",\n        \"description\": \"\"\n      }\n    },\n    {\n      \"column\": \"packets\",\n      \"properties\": {\n        \"dtype\": \"number\",\n        \"std\": 1949,\n        \"min\": 1,\n        \"max\": 238334,\n        \"num_unique_values\": 1114,\n        \"samples\": [\n          93687,\n          44,\n          9309\n        ],\n        \"semantic_type\": \"\",\n        \"description\": \"\"\n      }\n    },\n    {\n      \"column\": \"elapsed_time_(sec)\",\n      \"properties\": {\n        \"dtype\": \"number\",\n        \"std\": 297,\n        \"min\": 0,\n        \"max\": 9851,\n        \"num_unique_values\": 912,\n        \"samples\": [\n          3747,\n          619,\n          686\n        ],\n        \"semantic_type\": \"\",\n        \"description\": \"\"\n      }\n    },\n    {\n      \"column\": \"pkts_sent\",\n      \"properties\": {\n        \"dtype\": \"number\",\n        \"std\": 616,\n        \"min\": 1,\n        \"max\": 82907,\n        \"num_unique_values\": 747,\n        \"samples\": [\n          455,\n          463,\n          171\n        ],\n        \"semantic_type\": \"\",\n        \"description\": \"\"\n      }\n    },\n    {\n      \"column\": \"pkts_received\",\n      \"properties\": {\n        \"dtype\": \"number\",\n        \"std\": 1428,\n        \"min\": 0,\n        \"max\": 219580,\n        \"num_unique_values\": 920,\n        \"samples\": [\n          397,\n          191,\n          6002\n        ],\n        \"semantic_type\": \"\",\n        \"description\": \"\"\n      }\n    },\n    {\n      \"column\": \"source_port_difference\",\n      \"properties\": {\n        \"dtype\": \"number\",\n        \"std\": 21673,\n        \"min\": 0,\n        \"max\": 65533,\n        \"num_unique_values\": 35957,\n        \"samples\": [\n          14987,\n          49204,\n          47\n        ],\n        \"semantic_type\": \"\",\n        \"description\": \"\"\n      }\n    },\n    {\n      \"column\": \"destination_port_difference\",\n      \"properties\": {\n        \"dtype\": \"number\",\n        \"std\": 16981,\n        \"min\": 0,\n        \"max\": 65504,\n        \"num_unique_values\": 800,\n        \"samples\": [\n          47512,\n          61600,\n          23718\n        ],\n        \"semantic_type\": \"\",\n        \"description\": \"\"\n      }\n    },\n    {\n      \"column\": \"source_port_type\",\n      \"properties\": {\n        \"dtype\": \"category\",\n        \"num_unique_values\": 3,\n        \"samples\": [\n          \"dynamic\",\n          \"registered\",\n          \"well_known\"\n        ],\n        \"semantic_type\": \"\",\n        \"description\": \"\"\n      }\n    },\n    {\n      \"column\": \"destination_port_type\",\n      \"properties\": {\n        \"dtype\": \"category\",\n        \"num_unique_values\": 3,\n        \"samples\": [\n          \"well_known\",\n          \"registered\",\n          \"dynamic\"\n        ],\n        \"semantic_type\": \"\",\n        \"description\": \"\"\n      }\n    },\n    {\n      \"column\": \"source_dest_port_symm\",\n      \"properties\": {\n        \"dtype\": \"number\",\n        \"std\": 0,\n        \"min\": 0,\n        \"max\": 1,\n        \"num_unique_values\": 2,\n        \"samples\": [\n          1,\n          0\n        ],\n        \"semantic_type\": \"\",\n        \"description\": \"\"\n      }\n    },\n    {\n      \"column\": \"nat_src_dest_port_symm\",\n      \"properties\": {\n        \"dtype\": \"number\",\n        \"std\": 0,\n        \"min\": 0,\n        \"max\": 1,\n        \"num_unique_values\": 2,\n        \"samples\": [\n          1,\n          0\n        ],\n        \"semantic_type\": \"\",\n        \"description\": \"\"\n      }\n    },\n    {\n      \"column\": \"source_port_match_flag\",\n      \"properties\": {\n        \"dtype\": \"number\",\n        \"std\": 0,\n        \"min\": 0,\n        \"max\": 1,\n        \"num_unique_values\": 2,\n        \"samples\": [\n          0,\n          1\n        ],\n        \"semantic_type\": \"\",\n        \"description\": \"\"\n      }\n    },\n    {\n      \"column\": \"dest_port_match_flag\",\n      \"properties\": {\n        \"dtype\": \"number\",\n        \"std\": 0,\n        \"min\": 0,\n        \"max\": 1,\n        \"num_unique_values\": 2,\n        \"samples\": [\n          1,\n          0\n        ],\n        \"semantic_type\": \"\",\n        \"description\": \"\"\n      }\n    }\n  ]\n}"
            }
          },
          "metadata": {},
          "execution_count": 176
        }
      ]
    },
    {
      "cell_type": "code",
      "source": [
        "final_firewall_data_df.columns"
      ],
      "metadata": {
        "colab": {
          "base_uri": "https://localhost:8080/"
        },
        "id": "I9k7gtriF8nk",
        "outputId": "f603e7be-c5c6-4c6d-a0be-7fd2b7ffd3b1"
      },
      "execution_count": 177,
      "outputs": [
        {
          "output_type": "execute_result",
          "data": {
            "text/plain": [
              "Index(['action', 'bytes', 'bytes_sent', 'bytes_received', 'packets',\n",
              "       'elapsed_time_(sec)', 'pkts_sent', 'pkts_received',\n",
              "       'source_port_difference', 'destination_port_difference',\n",
              "       'source_port_type', 'destination_port_type', 'source_dest_port_symm',\n",
              "       'nat_src_dest_port_symm', 'source_port_match_flag',\n",
              "       'dest_port_match_flag'],\n",
              "      dtype='object')"
            ]
          },
          "metadata": {},
          "execution_count": 177
        }
      ]
    },
    {
      "cell_type": "code",
      "source": [],
      "metadata": {
        "id": "lQE5cJht-ezL"
      },
      "execution_count": null,
      "outputs": []
    },
    {
      "cell_type": "code",
      "source": [
        "#gather all the data\n",
        "X_data = final_firewall_data_df.loc[:,['bytes', 'bytes_sent', 'bytes_received', 'packets',\n",
        "       'elapsed_time_(sec)', 'pkts_sent', 'pkts_received',\n",
        "       'source_port_difference', 'destination_port_difference',\n",
        "       'source_port_type', 'destination_port_type', 'source_port_match_flag',\n",
        "       'dest_port_match_flag', 'source_dest_port_symm',\n",
        "       'nat_src_dest_port_symm']]\n",
        "\n",
        "encoder = LabelEncoder() #label encode the target label\n",
        "y_data = encoder.fit_transform(final_firewall_data_df['action'])\n",
        "#perfrom the train,test and cross validation split of the overall data\n",
        "X_train,X_test,y_train,y_test = train_test_split(X_data,y_data,stratify = y_data,test_size=0.10,random_state = 2)\n",
        "X_tr,X_cv,y_tr,y_cv = train_test_split(X_train,y_train,stratify = y_train,test_size=0.10,random_state = 2)\n",
        "\n",
        "print(\"X_train shape \",X_train.shape)\n",
        "print(\"y_train shape \",y_train.shape)\n",
        "print(\"X_test shape \",X_test.shape)\n",
        "print(\"y_test shape \",y_test.shape)"
      ],
      "metadata": {
        "colab": {
          "base_uri": "https://localhost:8080/"
        },
        "id": "3ZQUBWSx-epx",
        "outputId": "168c8849-bf45-484e-9d16-3185f7d3cb58"
      },
      "execution_count": 178,
      "outputs": [
        {
          "output_type": "stream",
          "name": "stdout",
          "text": [
            "X_train shape  (58976, 15)\n",
            "y_train shape  (58976,)\n",
            "X_test shape  (6553, 15)\n",
            "y_test shape  (6553,)\n"
          ]
        }
      ]
    },
    {
      "cell_type": "code",
      "source": [
        "#check the label encoding on the target class\n",
        "encoder_check = pd.DataFrame({'class':firewall_data['action'],'mapping':y_data})\n",
        "print(\"mapping value for allow \",encoder_check[encoder_check['class'] == 'allow']['mapping'].unique())\n",
        "print(\"mapping value for deny \",encoder_check[encoder_check['class'] == 'deny']['mapping'].unique())\n",
        "print(\"mapping value for drop \",encoder_check[encoder_check['class'] == 'drop']['mapping'].unique())\n",
        "print(\"mapping value for reset-both \",encoder_check[encoder_check['class'] == 'reset-both']['mapping'].unique())"
      ],
      "metadata": {
        "colab": {
          "base_uri": "https://localhost:8080/"
        },
        "id": "ikLXFsoMS1Gv",
        "outputId": "8e630531-993d-43ac-8463-a6595d545d74"
      },
      "execution_count": 179,
      "outputs": [
        {
          "output_type": "stream",
          "name": "stdout",
          "text": [
            "mapping value for allow  [0]\n",
            "mapping value for deny  [1]\n",
            "mapping value for drop  [2]\n",
            "mapping value for reset-both  [3]\n"
          ]
        }
      ]
    },
    {
      "cell_type": "code",
      "source": [
        "label_mapping = dict(zip(['allow','deny','drop','reset-both'],[0,1,2,3]))"
      ],
      "metadata": {
        "id": "AJ1YUbb1UiCQ"
      },
      "execution_count": 180,
      "outputs": []
    },
    {
      "cell_type": "markdown",
      "source": [
        "Encode the data appropriately based on th e type before applying on the model.\n",
        "\n",
        "1. categorical data is count vectorised\n",
        "2. numerical data is normalised\n",
        "3. binary data is left as is"
      ],
      "metadata": {
        "id": "-uDhzIjw1uCT"
      }
    },
    {
      "cell_type": "code",
      "source": [
        "src_port_type_vec = CountVectorizer()\n",
        "src_port_type_vec.fit(X_tr['source_port_type'])\n",
        "src_port_type_vec_tr = src_port_type_vec.transform(X_tr['source_port_type'])\n",
        "src_port_type_vec_cv = src_port_type_vec.transform(X_cv['source_port_type'])\n",
        "src_port_type_vec_test = src_port_type_vec.transform(X_test['source_port_type'])\n",
        "\n",
        "dest_port_type_vec = CountVectorizer()\n",
        "dest_port_type_vec.fit(X_tr['destination_port_type'])\n",
        "dest_port_type_vec_tr = dest_port_type_vec.transform(X_tr['destination_port_type'])\n",
        "dest_port_type_vec_cv = dest_port_type_vec.transform(X_cv['destination_port_type'])\n",
        "dest_port_type_vec_test = dest_port_type_vec.transform(X_test['destination_port_type'])\n",
        "\n",
        "normaliser = Normalizer()\n",
        "norm_bytes_tr = normaliser.fit_transform(X_tr['bytes'].values.reshape(1,-1))\n",
        "norm_bytes_cv = normaliser.fit_transform(X_cv['bytes'].values.reshape(1,-1))\n",
        "norm_bytes_test = normaliser.fit_transform(X_test['bytes'].values.reshape(1,-1))\n",
        "norm_bytes_tr = norm_bytes_tr.reshape(norm_bytes_tr.shape[1],-1)\n",
        "norm_bytes_cv = norm_bytes_cv.reshape(norm_bytes_cv.shape[1],-1)\n",
        "norm_bytes_test = norm_bytes_test.reshape(norm_bytes_test.shape[1],-1)\n",
        "# norm_bytes_tr_csr = sparse.csr_matrix(norm_bytes_tr)\n",
        "# norm_bytes_test_csr = sparse.csr_matrix(norm_bytes_test)\n",
        "\n",
        "norm_bytes_sent_tr = normaliser.fit_transform(X_tr['bytes_sent'].values.reshape(1,-1))\n",
        "norm_bytes_sent_cv = normaliser.fit_transform(X_cv['bytes_sent'].values.reshape(1,-1))\n",
        "norm_bytes_sent_test = normaliser.fit_transform(X_test['bytes_sent'].values.reshape(1,-1))\n",
        "norm_bytes_sent_tr = norm_bytes_sent_tr.reshape(norm_bytes_sent_tr.shape[1],-1)\n",
        "norm_bytes_sent_cv = norm_bytes_sent_cv.reshape(norm_bytes_sent_cv.shape[1],-1)\n",
        "norm_bytes_sent_test = norm_bytes_sent_test.reshape(norm_bytes_sent_test.shape[1],-1)\n",
        "# norm_bytes_sent_tr_csr = sparse.csr_matrix(norm_bytes_sent_tr)\n",
        "# norm_bytes_sent_test_csr = sparse.csr_matrix(norm_bytes_sent_test)\n",
        "\n",
        "norm_bytes_received_tr = normaliser.fit_transform(X_tr['bytes_received'].values.reshape(1,-1))\n",
        "norm_bytes_received_cv = normaliser.fit_transform(X_cv['bytes_received'].values.reshape(1,-1))\n",
        "norm_bytes_received_test = normaliser.fit_transform(X_test['bytes_received'].values.reshape(1,-1))\n",
        "norm_bytes_received_tr = norm_bytes_received_tr.reshape(norm_bytes_received_tr.shape[1],-1)\n",
        "norm_bytes_received_cv = norm_bytes_received_cv.reshape(norm_bytes_received_cv.shape[1],-1)\n",
        "norm_bytes_received_test = norm_bytes_received_test.reshape(norm_bytes_received_test.shape[1],-1)\n",
        "# norm_bytes_received_tr_csr = sparse.csr_matrix(norm_bytes_received_tr)\n",
        "# norm_bytes_received_test_csr = sparse.csr_matrix(norm_bytes_received_test)\n",
        "\n",
        "norm_pkts_tr = normaliser.fit_transform(X_tr['packets'].values.reshape(1,-1))\n",
        "norm_pkts_cv = normaliser.fit_transform(X_cv['packets'].values.reshape(1,-1))\n",
        "norm_pkts_test = normaliser.fit_transform(X_test['packets'].values.reshape(1,-1))\n",
        "norm_pkts_tr = norm_pkts_tr.reshape(norm_pkts_tr.shape[1],-1)\n",
        "norm_pkts_cv = norm_pkts_cv.reshape(norm_pkts_cv.shape[1],-1)\n",
        "norm_pkts_test = norm_pkts_test.reshape(norm_pkts_test.shape[1],-1)\n",
        "# norm_pkts_tr_csr = sparse.csr_matrix(norm_pkts_tr)\n",
        "# norm_pkts_test_csr = sparse.csr_matrix(norm_pkts_test)\n",
        "\n",
        "\n",
        "norm_pkts_sent_tr = normaliser.fit_transform(X_tr['pkts_sent'].values.reshape(1,-1))\n",
        "norm_pkts_sent_cv = normaliser.fit_transform(X_cv['pkts_sent'].values.reshape(1,-1))\n",
        "norm_pkts_sent_test = normaliser.fit_transform(X_test['pkts_sent'].values.reshape(1,-1))\n",
        "norm_pkts_sent_tr = norm_pkts_sent_tr.reshape(norm_pkts_sent_tr.shape[1],-1)\n",
        "norm_pkts_sent_cv = norm_pkts_sent_cv.reshape(norm_pkts_sent_cv.shape[1],-1)\n",
        "norm_pkts_sent_test = norm_pkts_sent_test.reshape(norm_pkts_sent_test.shape[1],-1)\n",
        "# norm_pkts_sent_tr_csr = sparse.csr_matrix(norm_pkts_sent_tr)\n",
        "# norm_pkts_sent_test_csr = sparse.csr_matrix(norm_pkts_sent_test)\n",
        "\n",
        "norm_pkts_received_tr = normaliser.fit_transform(X_tr['pkts_received'].values.reshape(1,-1))\n",
        "norm_pkts_received_cv = normaliser.fit_transform(X_cv['pkts_received'].values.reshape(1,-1))\n",
        "norm_pkts_received_test = normaliser.fit_transform(X_test['pkts_received'].values.reshape(1,-1))\n",
        "norm_pkts_received_tr = norm_pkts_received_tr.reshape(norm_pkts_received_tr.shape[1],-1)\n",
        "norm_pkts_received_cv = norm_pkts_received_cv.reshape(norm_pkts_received_cv.shape[1],-1)\n",
        "norm_pkts_received_test = norm_pkts_received_test.reshape(norm_pkts_received_test.shape[1],-1)\n",
        "# norm_pkts_received_tr_csr = sparse.csr_matrix(norm_pkts_received_tr)\n",
        "# norm_pkts_received_test_csr = sparse.csr_matrix(norm_pkts_received_test)\n",
        "\n",
        "norm_elapsed_time_tr = normaliser.fit_transform(X_tr['elapsed_time_(sec)'].values.reshape(1,-1))\n",
        "norm_elapsed_time_cv = normaliser.fit_transform(X_cv['elapsed_time_(sec)'].values.reshape(1,-1))\n",
        "norm_elapsed_time_test = normaliser.fit_transform(X_test['elapsed_time_(sec)'].values.reshape(1,-1))\n",
        "norm_elapsed_time_tr = norm_elapsed_time_tr.reshape(norm_elapsed_time_tr.shape[1],-1)\n",
        "norm_elapsed_time_cv = norm_elapsed_time_cv.reshape(norm_elapsed_time_cv.shape[1],-1)\n",
        "norm_elapsed_time_test = norm_elapsed_time_test.reshape(norm_elapsed_time_test.shape[1],-1)\n",
        "# norm_elapsed_time_tr_csr = sparse.csr_matrix(norm_elapsed_time_tr)\n",
        "# norm_elapsed_time_test_csr = sparse.csr_matrix(norm_elapsed_time_test)\n",
        "\n",
        "norm_source_port_difference_tr = normaliser.fit_transform(X_tr['source_port_difference'].values.reshape(1,-1))\n",
        "norm_source_port_difference_cv = normaliser.fit_transform(X_cv['source_port_difference'].values.reshape(1,-1))\n",
        "norm_source_port_difference_test = normaliser.fit_transform(X_test['source_port_difference'].values.reshape(1,-1))\n",
        "norm_source_port_difference_tr = norm_source_port_difference_tr.reshape(norm_source_port_difference_tr.shape[1],-1)\n",
        "norm_source_port_difference_cv = norm_source_port_difference_cv.reshape(norm_source_port_difference_cv.shape[1],-1)\n",
        "norm_source_port_difference_test = norm_source_port_difference_test.reshape(norm_source_port_difference_test.shape[1],-1)\n",
        "\n",
        "\n",
        "norm_destination_port_difference_tr = normaliser.fit_transform(X_tr['destination_port_difference'].values.reshape(1,-1))\n",
        "norm_destination_port_difference_cv = normaliser.fit_transform(X_cv['destination_port_difference'].values.reshape(1,-1))\n",
        "norm_destination_port_difference_test = normaliser.fit_transform(X_test['destination_port_difference'].values.reshape(1,-1))\n",
        "norm_destination_port_difference_tr = norm_destination_port_difference_tr.reshape(norm_destination_port_difference_tr.shape[1],-1)\n",
        "norm_destination_port_difference_cv = norm_destination_port_difference_cv.reshape(norm_destination_port_difference_cv.shape[1],-1)\n",
        "norm_destination_port_difference_test = norm_destination_port_difference_test.reshape(norm_destination_port_difference_test.shape[1],-1)\n",
        "\n",
        "source_dest_port_sym_tr = X_tr['source_dest_port_symm'].values.reshape(-1,1)\n",
        "source_dest_port_sym_cv = X_cv['source_dest_port_symm'].values.reshape(-1,1)\n",
        "source_dest_port_sym_test = X_test['source_dest_port_symm'].values.reshape(-1,1)\n",
        "\n",
        "nat_source_dest_port_sym_tr = X_tr['nat_src_dest_port_symm'].values.reshape(-1,1)\n",
        "nat_source_dest_port_sym_cv = X_cv['nat_src_dest_port_symm'].values.reshape(-1,1)\n",
        "nat_source_dest_port_sym_test = X_test['nat_src_dest_port_symm'].values.reshape(-1,1)\n",
        "\n",
        "\n",
        "source_port_match_flag_tr = X_tr['source_port_match_flag'].values.reshape(-1,1)\n",
        "source_port_match_flag_cv = X_cv['source_port_match_flag'].values.reshape(-1,1)\n",
        "source_port_match_flag_test = X_test['source_port_match_flag'].values.reshape(-1,1)\n",
        "\n",
        "dest_port_match_flag_tr = X_tr['dest_port_match_flag'].values.reshape(-1,1)\n",
        "dest_port_match_flag_cv = X_cv['dest_port_match_flag'].values.reshape(-1,1)\n",
        "dest_port_match_flag_test = X_test['dest_port_match_flag'].values.reshape(-1,1)"
      ],
      "metadata": {
        "id": "IqJAchuR_Q8a"
      },
      "execution_count": 181,
      "outputs": []
    },
    {
      "cell_type": "code",
      "source": [
        "from scipy import sparse"
      ],
      "metadata": {
        "id": "a-wp_iO7VzB8"
      },
      "execution_count": 182,
      "outputs": []
    },
    {
      "cell_type": "markdown",
      "source": [
        "combine all the transformed data using hstack"
      ],
      "metadata": {
        "id": "etuBVg0y2UQT"
      }
    },
    {
      "cell_type": "code",
      "source": [
        "train_data_processed = sparse.hstack((src_port_type_vec_tr,dest_port_type_vec_tr,norm_bytes_tr,norm_bytes_sent_tr,norm_bytes_received_tr,norm_pkts_tr,norm_pkts_sent_tr,norm_pkts_received_tr,norm_elapsed_time_tr,norm_source_port_difference_tr,norm_destination_port_difference_tr,source_dest_port_sym_tr,nat_source_dest_port_sym_tr,source_port_match_flag_tr,dest_port_match_flag_tr))\n",
        "cv_data_processed = sparse.hstack((src_port_type_vec_cv,dest_port_type_vec_cv,norm_bytes_cv,norm_bytes_sent_cv,norm_bytes_received_cv,norm_pkts_cv,norm_pkts_sent_cv,norm_pkts_received_cv,norm_elapsed_time_cv,norm_source_port_difference_cv,norm_destination_port_difference_cv,source_dest_port_sym_cv,nat_source_dest_port_sym_cv,source_port_match_flag_cv,dest_port_match_flag_cv))\n",
        "test_data_processed  = sparse.hstack((src_port_type_vec_test,dest_port_type_vec_test,norm_bytes_test,norm_bytes_sent_test,norm_bytes_received_test,norm_pkts_test,norm_pkts_sent_test,norm_pkts_received_test,norm_elapsed_time_test,norm_source_port_difference_test,norm_destination_port_difference_test,source_dest_port_sym_test,nat_source_dest_port_sym_test,source_port_match_flag_test,dest_port_match_flag_test))\n"
      ],
      "metadata": {
        "id": "TpFjF8l9rajn"
      },
      "execution_count": 183,
      "outputs": []
    },
    {
      "cell_type": "code",
      "source": [],
      "metadata": {
        "id": "rfIFr9Om4yKr"
      },
      "execution_count": null,
      "outputs": []
    },
    {
      "cell_type": "markdown",
      "source": [
        "<h1> Performance Metric </h1>\n",
        "\n",
        "\n",
        "\n"
      ],
      "metadata": {
        "id": "_5HFcAVi4omD"
      }
    },
    {
      "cell_type": "markdown",
      "source": [
        "Log Loss"
      ],
      "metadata": {
        "id": "Acb4a-mZB85I"
      }
    },
    {
      "cell_type": "markdown",
      "source": [
        "Please refer https://miro.medium.com/v2/resize:fit:1162/0*i2_eUc_t8A1EJObd.png for the formula of log loss\n",
        "\n",
        "Note - The log(p) term within the log loss formula penalises misclassification or lower values of probabbility.\n",
        "\n",
        "The probabilistic outcomes help in comparing multiple models.\n",
        "\n",
        "Lower the log loss beterr the model\n",
        "\n",
        "In addition to log loss, confusion matrix is used on the final test prediction to find the number of correctly classified points"
      ],
      "metadata": {
        "id": "zOywn56M6Kxv"
      }
    },
    {
      "cell_type": "markdown",
      "source": [
        "<h1> Model Building </h1>"
      ],
      "metadata": {
        "id": "dYKSbn7Q2mRV"
      }
    },
    {
      "cell_type": "markdown",
      "source": [
        "<h2> Random Model</h2>"
      ],
      "metadata": {
        "id": "V7WR13Bf2jGz"
      }
    },
    {
      "cell_type": "markdown",
      "source": [
        "A random model that arbitarily assign probability score is built.\n",
        "\n",
        "This model will be used to compare the performance with other models in the future."
      ],
      "metadata": {
        "id": "4_mjrOx-21vj"
      }
    },
    {
      "cell_type": "code",
      "source": [
        "\n",
        "# we need to generate 9 numbers and the sum of numbers should be 1\n",
        "# one solution is to genarate 9 numbers and divide each of the numbers by their sum\n",
        "# ref: https://stackoverflow.com/a/18662466/4084039\n",
        "# we create a output array that has exactly same size as the CV data\n",
        "import random\n",
        "np.random.seed = 12\n",
        "test_len  = y_test.shape[0]\n",
        "predicted_y = np.zeros((test_len,4))\n",
        "for i in range(test_len):\n",
        "    rand_probs = np.random.rand(1,4)\n",
        "    predicted_y[i] = ((rand_probs/sum(sum(rand_probs)))[0])\n",
        "print(\"Log loss on Test Data using Random Model\",log_loss(y_test, predicted_y))\n",
        "\n",
        "predicted_y =np.argmax(predicted_y, axis=1)\n",
        "\n",
        "\n"
      ],
      "metadata": {
        "colab": {
          "base_uri": "https://localhost:8080/"
        },
        "id": "aa1maWA7kVLg",
        "outputId": "6277196f-dd09-4f4c-b737-b88f352044b4"
      },
      "execution_count": 186,
      "outputs": [
        {
          "output_type": "stream",
          "name": "stdout",
          "text": [
            "Log loss on Test Data using Random Model 1.6411302703331787\n"
          ]
        }
      ]
    },
    {
      "cell_type": "code",
      "source": [
        "#https://stackoverflow.com/questions/29647749/seaborn-showing-scientific-notation-in-heatmap-for-3-digit-numbers\n",
        "fig, ax = plt.subplots(1, 1)\n",
        "sns.heatmap(confusion_matrix(y_test,predicted_y),annot = True,fmt = 'g',xticklabels=label_mapping.keys(),yticklabels=label_mapping.keys())\n",
        "plt.xlabel(\"Predicted class\")\n",
        "plt.ylabel(\"Actual class\")"
      ],
      "metadata": {
        "colab": {
          "base_uri": "https://localhost:8080/",
          "height": 466
        },
        "id": "Hneg9C-6t90_",
        "outputId": "32ca655b-f7d8-45f3-ac48-f42f03df8d37"
      },
      "execution_count": 187,
      "outputs": [
        {
          "output_type": "execute_result",
          "data": {
            "text/plain": [
              "Text(50.722222222222214, 0.5, 'Actual class')"
            ]
          },
          "metadata": {},
          "execution_count": 187
        },
        {
          "output_type": "display_data",
          "data": {
            "text/plain": [
              "<Figure size 640x480 with 2 Axes>"
            ],
            "image/png": "[encoded data removed]"
          },
          "metadata": {}
        }
      ]
    },
    {
      "cell_type": "markdown",
      "source": [
        "<h2> KNearestNeighbors </h2>\n",
        "\n",
        "1. KNN is based on the concept of neighborhood. Points are alike those  \n",
        "   points in the nearest neighbourhood.\n",
        "2. We use GridsearchCV to look at various value of hyperparameter k to\n",
        "   decide on the best value\n"
      ],
      "metadata": {
        "id": "2ElFCxuI7TLJ"
      }
    },
    {
      "cell_type": "code",
      "source": [
        "params = {'n_neighbors':[1,5,9,11,15,25]}\n",
        "knn = KNeighborsClassifier()\n",
        "gd_clf_knn = GridSearchCV(knn,param_grid=params)\n",
        "gd_clf_knn.fit(train_data_processed,y_tr)\n",
        "print(\"the best estimator is \")\n",
        "print(gd_clf_knn.best_params_)"
      ],
      "metadata": {
        "colab": {
          "base_uri": "https://localhost:8080/"
        },
        "id": "yzBaNFOnyeId",
        "outputId": "85304a53-2490-44a1-b403-19d04b629cfe"
      },
      "execution_count": 189,
      "outputs": [
        {
          "output_type": "stream",
          "name": "stdout",
          "text": [
            "the best estimator is \n",
            "{'n_neighbors': 1}\n"
          ]
        }
      ]
    },
    {
      "cell_type": "code",
      "source": [
        "knn_model = KNeighborsClassifier(n_neighbors = 1)\n",
        "knn_model.fit(train_data_processed,y_tr)\n",
        "y_train_pred_proba = knn_model.predict_proba(train_data_processed)\n",
        "y_cv_pred_proba = knn_model.predict_proba(cv_data_processed)\n",
        "y_test_pred_proba = knn_model.predict_proba(test_data_processed)\n",
        "\n",
        "knn_train_log_loss = log_loss(y_tr,y_train_pred_proba)\n",
        "knn_cv_log_loss = log_loss(y_cv,y_cv_pred_proba)\n",
        "knn_test_log_loss = log_loss(y_test,y_test_pred_proba)\n",
        "\n",
        "\n",
        "print(\"Log loss on the train data is \",knn_train_log_loss)\n",
        "print(\"Log loss on the cv data is \",knn_cv_log_loss)\n",
        "print(\"Log loss on the test data is \",knn_test_log_loss)\n",
        "\n",
        "knn_test_pred = knn_model.predict(test_data_processed)\n",
        "\n",
        "#https://stackoverflow.com/questions/29647749/seaborn-showing-scientific-notation-in-heatmap-for-3-digit-numbers\n",
        "fig, ax = plt.subplots(1, 1)\n",
        "sns.heatmap(confusion_matrix(y_test,knn_test_pred),annot = True,fmt = 'g',xticklabels=label_mapping.keys(),yticklabels=label_mapping.keys())\n",
        "plt.xlabel(\"Predicted class\")\n",
        "plt.ylabel(\"Actual class\")\n"
      ],
      "metadata": {
        "colab": {
          "base_uri": "https://localhost:8080/",
          "height": 518
        },
        "id": "soeJaCfdIFkJ",
        "outputId": "88228f50-6ee3-4073-a843-658df10b5b0e"
      },
      "execution_count": 190,
      "outputs": [
        {
          "output_type": "stream",
          "name": "stdout",
          "text": [
            "Log loss on the train data is  0.010865112743997252\n",
            "Log loss on the cv data is  0.4216704109611876\n",
            "Log loss on the test data is  0.3520210311160536\n"
          ]
        },
        {
          "output_type": "execute_result",
          "data": {
            "text/plain": [
              "Text(50.722222222222214, 0.5, 'Actual class')"
            ]
          },
          "metadata": {},
          "execution_count": 190
        },
        {
          "output_type": "display_data",
          "data": {
            "text/plain": [
              "<Figure size 640x480 with 2 Axes>"
            ],
            "image/png": "[encoded data removed]"
          },
          "metadata": {}
        }
      ]
    },
    {
      "cell_type": "markdown",
      "source": [
        "The KNN had the best parameter as k = 1.\n",
        "\n",
        "Also the log loss on the test data with KNN is 0.35 while the log loss of the test data on the random model is 1.64.\n",
        "\n",
        "It is clearly evident that KNN has reduced log loss.\n",
        "\n"
      ],
      "metadata": {
        "id": "epAitwUgC3QQ"
      }
    },
    {
      "cell_type": "code",
      "source": [
        "\n",
        "\n"
      ],
      "metadata": {
        "id": "IVSvBK4eWmbj"
      },
      "execution_count": null,
      "outputs": []
    },
    {
      "cell_type": "markdown",
      "source": [
        "---------------------------------------------------------------------------"
      ],
      "metadata": {
        "id": "EYdwvoAYHFif"
      }
    },
    {
      "cell_type": "markdown",
      "source": [
        "<h2> Logistic Regression</2>\n",
        "\n",
        "In this model, we try to minimise the log loss i.e\n",
        "\n",
        "log(1+exp(-y_i w_T x_i)) also adding the regularization parameter C.\n",
        "\n",
        "Here C is the hyperparameter with L2 regularization"
      ],
      "metadata": {
        "id": "Cf4YcK1J-ykx"
      }
    },
    {
      "cell_type": "code",
      "source": [
        "params = {'C':[0.0001,0.001,0.01,0.1,1,10,100]}\n",
        "log_reg = LogisticRegression(class_weight='balanced',random_state=12)\n",
        "gd_clf2 = GridSearchCV(log_reg,param_grid=params,scoring = 'neg_log_loss',cv = 3,return_train_score = True)\n",
        "gd_clf2.fit(train_data_processed,y_tr)\n",
        "print(\"the best parameters are \",gd_clf2.best_params_)"
      ],
      "metadata": {
        "colab": {
          "base_uri": "https://localhost:8080/"
        },
        "id": "7nuU1SgUZYn_",
        "outputId": "b4b7733c-66de-4acd-98c8-2d1c1aa5917f"
      },
      "execution_count": 102,
      "outputs": [
        {
          "output_type": "stream",
          "name": "stdout",
          "text": [
            "the best parameters are  {'C': 10}\n"
          ]
        }
      ]
    },
    {
      "cell_type": "code",
      "source": [
        "params_df = pd.DataFrame(gd_clf2.cv_results_['params'])\n",
        "cv_score_df  = pd.DataFrame(gd_clf2.cv_results_).loc[:,['mean_test_score','mean_train_score']]\n",
        "\n",
        "param_cv_df  = pd.merge(params_df,cv_score_df,left_index=True,right_index=True)\n",
        "param_cv_df['mean_test_score']  = param_cv_df['mean_test_score'] * (-1)\n",
        "param_cv_df['mean_train_score']  = param_cv_df['mean_train_score'] * (-1)\n",
        "\n",
        "print(param_cv_df)"
      ],
      "metadata": {
        "colab": {
          "base_uri": "https://localhost:8080/"
        },
        "id": "fQ2eqzC-YjII",
        "outputId": "085477db-b772-41ef-ec6a-52b8db6fbf22"
      },
      "execution_count": 104,
      "outputs": [
        {
          "output_type": "stream",
          "name": "stdout",
          "text": [
            "          C  mean_test_score  mean_train_score\n",
            "0    0.0001         0.902330          0.902299\n",
            "1    0.0010         0.401298          0.401391\n",
            "2    0.0100         0.236069          0.236238\n",
            "3    0.1000         0.203297          0.203372\n",
            "4    1.0000         0.196819          0.196707\n",
            "5   10.0000         0.196297          0.196078\n",
            "6  100.0000         0.196659          0.196477\n"
          ]
        }
      ]
    },
    {
      "cell_type": "markdown",
      "source": [
        "We observe variation in the log loss of cross validation data for diffrent value of C"
      ],
      "metadata": {
        "id": "HgZwlce3_29M"
      }
    },
    {
      "cell_type": "code",
      "source": [
        "fig, ax = plt.subplots()\n",
        "ax.plot(param_cv_df['C'], param_cv_df['mean_test_score'],c='g')\n",
        "for i, txt in enumerate(np.round(param_cv_df['mean_test_score'],3)):\n",
        "    ax.annotate((param_cv_df['C'].values[i],np.round(txt,3)), (param_cv_df['C'].values[i],param_cv_df['mean_test_score'].values[i]))\n",
        "plt.grid()\n",
        "plt.title(\"Cross Validation Loss for each C\")\n",
        "plt.xlabel(\"C i's\")\n",
        "plt.ylabel(\"loss measure\")\n",
        "plt.show()"
      ],
      "metadata": {
        "colab": {
          "base_uri": "https://localhost:8080/",
          "height": 472
        },
        "id": "ExwwfuX7YwiY",
        "outputId": "107e37e0-86ec-441e-e963-820df8149962"
      },
      "execution_count": 106,
      "outputs": [
        {
          "output_type": "display_data",
          "data": {
            "text/plain": [
              "<Figure size 640x480 with 1 Axes>"
            ],
            "image/png": "[encoded data removed]"
          },
          "metadata": {}
        }
      ]
    },
    {
      "cell_type": "code",
      "source": [
        "log_reg = LogisticRegression(C = 10,penalty='l2',class_weight = 'balanced',random_state = 12)\n",
        "log_reg.fit(train_data_processed,y_tr)\n",
        "y_train_pred_proba = log_reg.predict_proba(train_data_processed)\n",
        "y_cv_pred_proba = log_reg.predict_proba(cv_data_processed)\n",
        "y_test_pred_proba = log_reg.predict_proba(test_data_processed)\n",
        "\n",
        "log_reg_train_log_loss = log_loss(y_tr,y_train_pred_proba)\n",
        "log_reg_cv_log_loss = log_loss(y_cv,y_cv_pred_proba)\n",
        "log_reg_test_log_loss = log_loss(y_test,y_test_pred_proba)\n",
        "\n",
        "\n",
        "print(\"Log loss on the train data is \",log_reg_train_log_loss)\n",
        "print(\"Log loss on the cv data is \",log_reg_cv_log_loss)\n",
        "print(\"Log loss on the test data is \",log_reg_test_log_loss)\n",
        "\n",
        "log_reg_test_pred = log_reg.predict(test_data_processed)\n",
        "\n",
        "#https://stackoverflow.com/questions/29647749/seaborn-showing-scientific-notation-in-heatmap-for-3-digit-numbers\n",
        "fig, ax = plt.subplots(1, 1)\n",
        "sns.heatmap(confusion_matrix(y_test,log_reg_test_pred),annot = True,fmt = 'g',xticklabels=label_mapping.keys(),yticklabels=label_mapping.keys())\n",
        "plt.xlabel(\"Predicted class\")\n",
        "plt.ylabel(\"Actual class\")"
      ],
      "metadata": {
        "colab": {
          "base_uri": "https://localhost:8080/",
          "height": 518
        },
        "id": "kZZkUOOSyexm",
        "outputId": "c3a3575d-1055-4462-a2bb-d6e5829a6fb6"
      },
      "execution_count": 103,
      "outputs": [
        {
          "output_type": "stream",
          "name": "stdout",
          "text": [
            "Log loss on the train data is  0.198753475362262\n",
            "Log loss on the cv data is  0.20144012029145716\n",
            "Log loss on the test data is  0.19175865447174875\n"
          ]
        },
        {
          "output_type": "execute_result",
          "data": {
            "text/plain": [
              "Text(50.722222222222214, 0.5, 'Actual class')"
            ]
          },
          "metadata": {},
          "execution_count": 103
        },
        {
          "output_type": "display_data",
          "data": {
            "text/plain": [
              "<Figure size 640x480 with 2 Axes>"
            ],
            "image/png": "[encoded data removed]"
          },
          "metadata": {}
        }
      ]
    },
    {
      "cell_type": "markdown",
      "source": [
        "A test log loss of 0.1 is observed, with most of the values from all the classes bieng correctly classified.\n",
        "\n",
        "With some data points from the deny is bieng misclassified as reset-both.\n",
        "\n",
        "Also it can be seen that no point belonging to drop, deny or reset has been misclassified as allow."
      ],
      "metadata": {
        "id": "6ayCEfpPDgnm"
      }
    },
    {
      "cell_type": "code",
      "source": [
        "\n"
      ],
      "metadata": {
        "id": "E1uUx8lvye52"
      },
      "execution_count": 105,
      "outputs": []
    },
    {
      "cell_type": "markdown",
      "source": [
        "---------------------------------------------------------------------------"
      ],
      "metadata": {
        "id": "gU4XbiHiHvZV"
      }
    },
    {
      "cell_type": "markdown",
      "source": [
        "<h3> Random Forest Classifier </h3>\n",
        "\n",
        "is an ensemble based model.\n",
        "\n",
        "Here we use the number of base learners, the depth of the tree and information gain computation either by gini impurity or entropy as  hyperparameters"
      ],
      "metadata": {
        "id": "2tl0kEI-EUh_"
      }
    },
    {
      "cell_type": "code",
      "source": [
        "# tuning the hyperparameters on training data\n",
        "random_forest_params = {'n_estimators': [15,50,100,250,500,1000,2000], 'criterion': ['gini', 'entropy'], 'max_depth': [10, 12, 20, 25,30,50]}\n",
        "rf_model = RandomForestClassifier(class_weight = 'balanced',  random_state =12)\n",
        "random_search_rf = RandomizedSearchCV(estimator = rf_model, param_distributions = random_forest_params,scoring = 'neg_log_loss', random_state = 12,return_train_score=True)\n",
        "random_search_rf.fit(train_data_processed, y_tr)\n",
        "print(\"the best parameters in random forest are \",random_search_rf.best_params_)\n"
      ],
      "metadata": {
        "colab": {
          "base_uri": "https://localhost:8080/"
        },
        "id": "b0fzG_17yfA-",
        "outputId": "54c76782-3964-4a24-c947-02b7bebfd5ac"
      },
      "execution_count": 108,
      "outputs": [
        {
          "output_type": "stream",
          "name": "stdout",
          "text": [
            "the best parameters in random forest are  {'n_estimators': 1000, 'max_depth': 12, 'criterion': 'gini'}\n"
          ]
        }
      ]
    },
    {
      "cell_type": "code",
      "source": [
        "params_df = pd.DataFrame(random_search_rf.cv_results_['params'])\n",
        "cv_score_df  = pd.DataFrame(random_search_rf.cv_results_).loc[:,['mean_test_score','mean_train_score']]\n",
        "\n",
        "param_cv_df  = pd.merge(params_df,cv_score_df,left_index=True,right_index=True)\n",
        "param_cv_df['mean_test_score']  = param_cv_df['mean_test_score'] * (-1)\n",
        "param_cv_df['mean_train_score']  = param_cv_df['mean_train_score'] * (-1)\n",
        "\n",
        "print(param_cv_df)"
      ],
      "metadata": {
        "colab": {
          "base_uri": "https://localhost:8080/"
        },
        "id": "8bjo5I3sxQYO",
        "outputId": "3db7f3e5-5db7-41ef-c990-d2a11f593c65"
      },
      "execution_count": 110,
      "outputs": [
        {
          "output_type": "stream",
          "name": "stdout",
          "text": [
            "   n_estimators  max_depth criterion  mean_test_score  mean_train_score\n",
            "0           250         20      gini         0.023059          0.001515\n",
            "1          1000         20      gini         0.020630          0.001518\n",
            "2           100         10   entropy         0.024618          0.019842\n",
            "3          1000         10   entropy         0.023728          0.019469\n",
            "4          1000         12      gini         0.015962          0.009982\n",
            "5            50         12      gini         0.017865          0.010201\n",
            "6           250         30   entropy         0.028904          0.001457\n",
            "7           100         25      gini         0.030114          0.001470\n",
            "8            15         20      gini         0.036976          0.001641\n",
            "9            15         12      gini         0.019147          0.009796\n"
          ]
        }
      ]
    },
    {
      "cell_type": "code",
      "source": [
        "y_test"
      ],
      "metadata": {
        "colab": {
          "base_uri": "https://localhost:8080/"
        },
        "id": "5txVCqu7g1Yo",
        "outputId": "3cedcc41-9ba3-4a2f-b4bd-ec7d02c3a682"
      },
      "execution_count": 111,
      "outputs": [
        {
          "output_type": "execute_result",
          "data": {
            "text/plain": [
              "array([0, 0, 1, ..., 1, 1, 2])"
            ]
          },
          "metadata": {},
          "execution_count": 111
        }
      ]
    },
    {
      "cell_type": "code",
      "source": [
        "rf_clf = RandomForestClassifier(n_estimators = 1000,max_depth = 12,criterion = 'gini',class_weight = 'balanced',  random_state = 12)\n",
        "rf_clf.fit(train_data_processed,y_tr)\n",
        "y_train_pred_proba = rf_clf.predict_proba(train_data_processed)\n",
        "y_cv_pred_proba = rf_clf.predict_proba(cv_data_processed)\n",
        "y_test_pred_proba = rf_clf.predict_proba(test_data_processed)\n",
        "\n",
        "rf_clf_train_log_loss = log_loss(y_tr,y_train_pred_proba)\n",
        "rf_clf_cv_log_loss = log_loss(y_cv,y_cv_pred_proba)\n",
        "rf_clf_test_log_loss = log_loss(y_test,y_test_pred_proba)\n",
        "\n",
        "\n",
        "print(\"Log loss on the train data is \",rf_clf_train_log_loss)\n",
        "print(\"Log loss on the cv data is \",rf_clf_cv_log_loss)\n",
        "print(\"Log loss on the test data is \",rf_clf_test_log_loss)\n",
        "\n",
        "rf_clf_test_pred = rf_clf.predict(test_data_processed)\n",
        "\n",
        "#https://stackoverflow.com/questions/29647749/seaborn-showing-scientific-notation-in-heatmap-for-3-digit-numbers\n",
        "fig, ax = plt.subplots(1, 1)\n",
        "sns.heatmap(confusion_matrix(y_test,rf_clf_test_pred),annot = True,fmt = 'g',xticklabels=label_mapping.keys(),yticklabels=label_mapping.keys())\n",
        "plt.xlabel(\"Predicted class\")\n",
        "plt.ylabel(\"Actual class\")"
      ],
      "metadata": {
        "colab": {
          "base_uri": "https://localhost:8080/",
          "height": 518
        },
        "id": "m5lFUNP4yfQG",
        "outputId": "4aedeffa-d3e2-4a96-9587-7628d78bc862"
      },
      "execution_count": 112,
      "outputs": [
        {
          "output_type": "stream",
          "name": "stdout",
          "text": [
            "Log loss on the train data is  0.01199089158011372\n",
            "Log loss on the cv data is  0.4952879019623049\n",
            "Log loss on the test data is  0.49552218279472693\n"
          ]
        },
        {
          "output_type": "execute_result",
          "data": {
            "text/plain": [
              "Text(50.722222222222214, 0.5, 'Actual class')"
            ]
          },
          "metadata": {},
          "execution_count": 112
        },
        {
          "output_type": "display_data",
          "data": {
            "text/plain": [
              "<Figure size 640x480 with 2 Axes>"
            ],
            "image/png": "[encoded data removed]"
          },
          "metadata": {}
        }
      ]
    },
    {
      "cell_type": "markdown",
      "source": [
        "A test log loss of 0.49 is observed.\n",
        "\n",
        "However from the confusion matrix it is quite evident that, all of the points belonging to the drop class are bieng misclassified as deny.\n",
        "\n",
        "Some of the points belonging to the deny class have been misclassfied as allow."
      ],
      "metadata": {
        "id": "EHgKPNZUF9G8"
      }
    },
    {
      "cell_type": "code",
      "source": [
        "# list of features\n",
        "\n",
        "features = ['src_dynamic','src_registered','src_well_known','dest_dynamic','dest_registered','dest_well_known','bytes', 'bytes_sent', 'bytes_received',\n",
        "'packets','pkts_sent', 'pkts_received','elapsed_time_(sec)','source_port_difference', 'destination_port_difference','source_dest_port_symm','nat_src_dest_port_symm','source_port_match_flag',\n",
        "'dest_port_match_flag']\n",
        "# array of feature importances\n",
        "importances = rf_clf.feature_importances_\n",
        "# sorting indices of importances in decreasing order\n",
        "indices = (np.argsort(importances))\n",
        "# plotting the horizontal barplot\n",
        "plt.figure(figsize=(10,12))\n",
        "plt.title('Feature Importances in Random Forest Classifier')\n",
        "plt.barh(range(len(indices)), importances[indices],  align='center')\n",
        "plt.yticks(range(len(indices)), [features[i] for i in indices])\n",
        "plt.xlabel('Relative Importance')\n",
        "plt.show()"
      ],
      "metadata": {
        "colab": {
          "base_uri": "https://localhost:8080/",
          "height": 1000
        },
        "id": "CdqWTJRvd9K1",
        "outputId": "f1849015-945b-4c9d-e040-f19c6446ebb4"
      },
      "execution_count": 122,
      "outputs": [
        {
          "output_type": "display_data",
          "data": {
            "text/plain": [
              "<Figure size 1000x1200 with 1 Axes>"
            ],
            "image/png": "[encoded data removed]"
          },
          "metadata": {}
        }
      ]
    },
    {
      "cell_type": "code",
      "source": [
        "!pip install xgboost"
      ],
      "metadata": {
        "colab": {
          "base_uri": "https://localhost:8080/"
        },
        "id": "obo6RzJr3SSP",
        "outputId": "c8ba9fb1-c404-4d0f-dc18-f3bc5679defa"
      },
      "execution_count": null,
      "outputs": [
        {
          "output_type": "stream",
          "name": "stdout",
          "text": [
            "Requirement already satisfied: xgboost in /usr/local/lib/python3.11/dist-packages (2.1.4)\n",
            "Requirement already satisfied: numpy in /usr/local/lib/python3.11/dist-packages (from xgboost) (2.0.2)\n",
            "Requirement already satisfied: nvidia-nccl-cu12 in /usr/local/lib/python3.11/dist-packages (from xgboost) (2.21.5)\n",
            "Requirement already satisfied: scipy in /usr/local/lib/python3.11/dist-packages (from xgboost) (1.14.1)\n"
          ]
        }
      ]
    },
    {
      "cell_type": "code",
      "source": [
        "from xgboost import XGBClassifier"
      ],
      "metadata": {
        "id": "K7kPVhkz6ZOo"
      },
      "execution_count": 205,
      "outputs": []
    },
    {
      "cell_type": "code",
      "source": [
        "# label_mapping = dict(zip(firewall_data['action'].unique(),[0,1,2,3]))\n",
        "\n",
        "# train_labels = []\n",
        "# for label in y_tr.values:\n",
        "#   train_labels.append(label_mapping[label])\n",
        "\n",
        "# cv_labels = []\n",
        "# for label in y_cv.values:\n",
        "#   cv_labels.append(label_mapping[label])\n",
        "\n",
        "# test_labels = []\n",
        "# for label in y_test.values:\n",
        "#   test_labels.append(label_mapping[label])"
      ],
      "metadata": {
        "id": "9UCPoqtZ8pXe"
      },
      "execution_count": null,
      "outputs": []
    },
    {
      "cell_type": "code",
      "source": [
        "num_models = [15,25,35,50,85,100,150]\n",
        "shrinkage_coeff = [0.0001, 0.001, 0.01, 0.1, 1.0,10,100]\n",
        "param_grid = {'learning_rate':shrinkage_coeff,'n_estimators' : num_models}\n",
        "xgbc = XGBClassifier()\n",
        "\n",
        "# https://machinelearningmastery.com/tune-learning-rate-for-gradient-boosting-with-xgboost-in-python/\n",
        "rand_search_xgb = RandomizedSearchCV(xgbc, param_grid, scoring=\"neg_log_loss\",  cv=3,return_train_score=True,random_state=12)\n",
        "rand_search_xgb.fit(train_data_processed,y_tr)\n",
        "print(\"the best parameters are \",rand_search_xgb.best_params_)"
      ],
      "metadata": {
        "colab": {
          "base_uri": "https://localhost:8080/"
        },
        "id": "0jWu1ipdyfZe",
        "outputId": "6eff4d62-b47f-4d5a-c767-ece2a8219ff0"
      },
      "execution_count": 126,
      "outputs": [
        {
          "output_type": "stream",
          "name": "stdout",
          "text": [
            "the best parameters are  {'n_estimators': 100, 'learning_rate': 0.1}\n"
          ]
        }
      ]
    },
    {
      "cell_type": "code",
      "source": [
        "params_df = pd.DataFrame(rand_search_xgb.cv_results_['params'])\n",
        "cv_score_df  = pd.DataFrame(rand_search_xgb.cv_results_).loc[:,['mean_test_score','mean_train_score']]\n",
        "\n",
        "param_cv_df  = pd.merge(params_df,cv_score_df,left_index=True,right_index=True)\n",
        "param_cv_df['mean_test_score']  = param_cv_df['mean_test_score'] * (-1)\n",
        "param_cv_df['mean_train_score']  = param_cv_df['mean_train_score'] * (-1)\n",
        "\n",
        "print(param_cv_df)"
      ],
      "metadata": {
        "id": "j-5Alx1dAS6g",
        "colab": {
          "base_uri": "https://localhost:8080/"
        },
        "outputId": "433d42c4-fcc2-4c26-c5c4-0cecec7a4e7c"
      },
      "execution_count": 127,
      "outputs": [
        {
          "output_type": "stream",
          "name": "stdout",
          "text": [
            "   n_estimators  learning_rate  mean_test_score  mean_train_score\n",
            "0           100        100.000         0.032616          0.029507\n",
            "1            50        100.000         0.032616          0.029507\n",
            "2            15          0.001         1.356927          1.356920\n",
            "3           100         10.000        12.467041         12.457154\n",
            "4            15         10.000        12.467041         12.457154\n",
            "5            15          1.000         0.009709          0.004274\n",
            "6           150          0.010         0.251841          0.251382\n",
            "7           100          0.100         0.009367          0.005325\n",
            "8           100          0.010         0.423056          0.422764\n",
            "9            25          0.001         1.337874          1.337863\n"
          ]
        }
      ]
    },
    {
      "cell_type": "code",
      "source": [
        "xgbc = XGBClassifier(n_estimators = 100,learning_rate = 0.1,criterion = 'gini',class_weight = 'balanced',  random_state = 12)\n",
        "xgbc.fit(train_data_processed,y_tr)\n",
        "y_train_pred_proba = xgbc.predict_proba(train_data_processed)\n",
        "y_cv_pred_proba = xgbc.predict_proba(cv_data_processed)\n",
        "y_test_pred_proba = xgbc.predict_proba(test_data_processed)\n",
        "\n",
        "xgbc_train_log_loss = log_loss(y_tr,y_train_pred_proba)\n",
        "xgbc_cv_log_loss = log_loss(y_cv,y_cv_pred_proba)\n",
        "xgbc_test_log_loss = log_loss(y_test,y_test_pred_proba)\n",
        "\n",
        "\n",
        "print(\"Log loss on the train data is \",xgbc_train_log_loss)\n",
        "print(\"Log loss on the cv data is \",xgbc_cv_log_loss)\n",
        "print(\"Log loss on the test data is \",xgbc_test_log_loss)\n",
        "\n",
        "xgbc_test_pred = xgbc.predict(test_data_processed)\n",
        "\n",
        "#https://stackoverflow.com/questions/29647749/seaborn-showing-scientific-notation-in-heatmap-for-3-digit-numbers\n",
        "fig, ax = plt.subplots(1, 1)\n",
        "\n",
        "\n",
        "\n",
        "sns.heatmap(confusion_matrix(y_test,xgbc_test_pred),annot = True,fmt = 'g',xticklabels=label_mapping.keys(),yticklabels=label_mapping.keys())\n",
        "plt.xlabel(\"Predicted class\")\n",
        "plt.ylabel(\"Actual class\")"
      ],
      "metadata": {
        "colab": {
          "base_uri": "https://localhost:8080/",
          "height": 518
        },
        "id": "4jd5n4Szn1Vt",
        "outputId": "35f37391-08cc-4822-ef0f-f444d354b5d4"
      },
      "execution_count": 129,
      "outputs": [
        {
          "output_type": "stream",
          "name": "stdout",
          "text": [
            "Log loss on the train data is  0.005736801450297892\n",
            "Log loss on the cv data is  0.05374102482520849\n",
            "Log loss on the test data is  0.054675435682331824\n"
          ]
        },
        {
          "output_type": "execute_result",
          "data": {
            "text/plain": [
              "Text(50.722222222222214, 0.5, 'Actual class')"
            ]
          },
          "metadata": {},
          "execution_count": 129
        },
        {
          "output_type": "display_data",
          "data": {
            "text/plain": [
              "<Figure size 640x480 with 2 Axes>"
            ],
            "image/png": "[encoded data removed]"
          },
          "metadata": {}
        }
      ]
    },
    {
      "cell_type": "markdown",
      "source": [
        "A train log loss of 0.005 and a cv log loss of 0.05 is observed.\n",
        "\n",
        "The XGboost model is generalising well on the train data and fairly well on the cv data.\n",
        "There is a small to medium generalization gap which is observed.\n",
        "\n",
        "The reset class is misclassified as deny"
      ],
      "metadata": {
        "id": "c_ZwtTcvKKmP"
      }
    },
    {
      "cell_type": "code",
      "source": [],
      "metadata": {
        "id": "OybwSI9Eyf2W"
      },
      "execution_count": null,
      "outputs": []
    },
    {
      "cell_type": "markdown",
      "source": [
        "Taking into account that classifying the given  network log into allow,deny,drop or reset is a low latency problem, we now need to explore the amount pf time that it takes for each of the models to make the classification given the test data point"
      ],
      "metadata": {
        "id": "5bcVpsWCbML3"
      }
    },
    {
      "cell_type": "code",
      "source": [
        "import time\n",
        "\n",
        "start_time = time.time()\n",
        "knn_predict = knn_model.predict(test_data_processed.toarray()[0].reshape(1,-1))\n",
        "end_time = time.time()\n",
        "knn_test_time = end_time - start_time\n",
        "print(\"time taken by the knn model \",knn_test_time)\n",
        "\n",
        "start_time = time.time()\n",
        "lgreg_predict = log_reg.predict(test_data_processed.toarray()[0].reshape(1,-1))\n",
        "end_time = time.time()\n",
        "lgreg_test_time = end_time - start_time\n",
        "print(\"time taken by the log reg model \",lgreg_test_time)\n",
        "\n",
        "start_time = time.time()\n",
        "rf_clf_predict = rf_clf.predict(test_data_processed.toarray()[0].reshape(1,-1))\n",
        "end_time = time.time()\n",
        "rf_clf_test_time = end_time - start_time\n",
        "print(\"time taken by the random forest model \",rf_clf_test_time)\n",
        "\n",
        "\n",
        "start_time = time.time()\n",
        "xgbc_predict = xgbc.predict(test_data_processed.toarray()[0].reshape(1,-1))\n",
        "end_time = time.time()\n",
        "xgbc_test_time = end_time - start_time\n",
        "print(\"time taken by the XG Boost model \",xgbc_test_time)\n"
      ],
      "metadata": {
        "colab": {
          "base_uri": "https://localhost:8080/"
        },
        "id": "kLJkflH4oRuF",
        "outputId": "593d99b7-3533-480b-f526-1a45bfcca0b7"
      },
      "execution_count": 225,
      "outputs": [
        {
          "output_type": "stream",
          "name": "stdout",
          "text": [
            "time taken by the knn model  0.0085601806640625\n",
            "time taken by the log reg model  0.0013697147369384766\n",
            "time taken by the random forest model  0.2014327049255371\n",
            "time taken by the XG Boost model  0.004265785217285156\n"
          ]
        }
      ]
    },
    {
      "cell_type": "code",
      "source": [],
      "metadata": {
        "id": "_u92Q0Z8-ceQ"
      },
      "execution_count": null,
      "outputs": []
    },
    {
      "cell_type": "code",
      "source": [
        "!pip install prettytable"
      ],
      "metadata": {
        "colab": {
          "base_uri": "https://localhost:8080/"
        },
        "id": "U6euDBgP-cWD",
        "outputId": "3f4b4440-44dd-4e55-b111-3326caa81332"
      },
      "execution_count": 194,
      "outputs": [
        {
          "output_type": "stream",
          "name": "stdout",
          "text": [
            "Requirement already satisfied: prettytable in /usr/local/lib/python3.11/dist-packages (3.16.0)\n",
            "Requirement already satisfied: wcwidth in /usr/local/lib/python3.11/dist-packages (from prettytable) (0.2.13)\n"
          ]
        }
      ]
    },
    {
      "cell_type": "code",
      "source": [
        "from prettytable import PrettyTable\n",
        "table = PrettyTable()\n",
        "table.field_names = [\"Model Name\", \"Train Log Loss\", \"CV Log Loss\", \"Test Log Loss\",\"Test Time (seconds)\"]\n",
        "table.add_row([\"KNN\", round(knn_train_log_loss,5), round(knn_cv_log_loss,5), round(knn_test_log_loss,5),round(knn_test_time,5)])\n",
        "table.add_row([\"Logistic Regression\", round(log_reg_train_log_loss,5), round(log_reg_cv_log_loss,5), round(log_reg_test_log_loss,5),round(lgreg_test_time,5)])\n",
        "table.add_row([\"Random Forest\", round(rf_clf_train_log_loss,5), round(rf_clf_cv_log_loss,5), round(rf_clf_test_log_loss,5),round(rf_clf_test_time,5)])\n",
        "table.add_row([\"XG Boost\", round(xgbc_train_log_loss,5), round(xgbc_cv_log_loss,5), round(xgbc_test_log_loss,5), round(xgbc_test_time,5)])\n",
        "\n",
        "print(table)"
      ],
      "metadata": {
        "colab": {
          "base_uri": "https://localhost:8080/"
        },
        "id": "pjXsqU7r-cO7",
        "outputId": "9b8a0028-364e-4826-bbca-6e2f412134aa"
      },
      "execution_count": 235,
      "outputs": [
        {
          "output_type": "stream",
          "name": "stdout",
          "text": [
            "+---------------------+----------------+-------------+---------------+---------------------+\n",
            "|      Model Name     | Train Log Loss | CV Log Loss | Test Log Loss | Test Time (seconds) |\n",
            "+---------------------+----------------+-------------+---------------+---------------------+\n",
            "|         KNN         |    0.01087     |   0.42167   |    0.35202    |       0.00856       |\n",
            "| Logistic Regression |    0.19875     |   0.20144   |    0.19176    |       0.00137       |\n",
            "|    Random Forest    |    0.01199     |   0.49529   |    0.49552    |       0.20143       |\n",
            "|       XG Boost      |    0.00574     |   0.05374   |    0.05468    |       0.00427       |\n",
            "+---------------------+----------------+-------------+---------------+---------------------+\n"
          ]
        }
      ]
    },
    {
      "cell_type": "markdown",
      "source": [
        "From the above table\n",
        "\n",
        "1. Logistic regression and XGBoost models seem like a good fit.\n",
        "2. However, in XGBoost it is noticed that some of the points marked as\n",
        "   deny have been predicted as allow which can pose a security risk and lead to exploitation of vulnearble systems.\n",
        "3. In case of Logistic regression such kind of errors cannot be noticed.\n",
        "\n",
        "So, the ultimate model suitable here can be logistic regression.\n",
        "\n"
      ],
      "metadata": {
        "id": "ScTuGxImK21s"
      }
    },
    {
      "cell_type": "code",
      "source": [],
      "metadata": {
        "id": "4VpZnwrb6QYi"
      },
      "execution_count": null,
      "outputs": []
    },
    {
      "cell_type": "markdown",
      "source": [
        "<h3> References </h3>\n",
        "\n",
        "https://scikit-learn.org/stable/modules/generated/sklearn.ensemble.AdaBoostClassifier.html\n",
        "\n",
        "https://scikit-learn.org/stable/modules/generated/sklearn.preprocessing.Normalizer.html\n",
        "\n",
        "https://saturncloud.io/blog/how-to-show-an-image-in-google-colab/\n",
        "\n",
        "\n",
        "https://miro.medium.com/v2/resize:fit:1162/0*i2_eUc_t8A1EJObd.png\n",
        "https://pypi.org/project/prettytable/\n",
        "\n",
        "https://stackoverflow.com/questions/37716699/how-to-hstack-several-sparse-matrices-feature-matrices\n",
        "\n",
        "https://stackoverflow.com/questions/75717467/heatmap-for-confusion-matrix-that-is-sensitive-to-the-distance-to-the-left-diago\n",
        "\n",
        "Crytography, Network Security and Cyber Laws by Bernanrd L Menenzes and Ravinder Kumar\n",
        "\n"
      ],
      "metadata": {
        "id": "SroQO4B5MnmA"
      }
    },
    {
      "cell_type": "code",
      "source": [],
      "metadata": {
        "id": "P1ECt4y3oRgN"
      },
      "execution_count": null,
      "outputs": []
    },
    {
      "cell_type": "code",
      "source": [],
      "metadata": {
        "id": "dr1KrYIZra5_"
      },
      "execution_count": null,
      "outputs": []
    },
    {
      "cell_type": "code",
      "source": [],
      "metadata": {
        "id": "lVOD961IrbCG"
      },
      "execution_count": null,
      "outputs": []
    },
    {
      "cell_type": "code",
      "source": [],
      "metadata": {
        "id": "SsrfmrJTrbLv"
      },
      "execution_count": null,
      "outputs": []
    },
    {
      "cell_type": "code",
      "source": [],
      "metadata": {
        "id": "-kfYQCF0rbaW"
      },
      "execution_count": null,
      "outputs": []
    }
  ]
}